{
  "cells": [
    {
      "cell_type": "code",
      "execution_count": 1085,
      "metadata": {
        "colab": {
          "base_uri": "https://localhost:8080/",
          "height": 206
        },
        "id": "8mBs75sAI_VX",
        "outputId": "e59feb80-e5c4-407e-d87d-b1501151c4bd"
      },
      "outputs": [
        {
          "output_type": "execute_result",
          "data": {
            "text/plain": [
              "                                                 App        Category  Rating  \\\n",
              "0     Photo Editor & Candy Camera & Grid & ScrapBook  ART_AND_DESIGN     4.1   \n",
              "1                                Coloring book moana  ART_AND_DESIGN     3.9   \n",
              "2  U Launcher Lite – FREE Live Cool Themes, Hide ...  ART_AND_DESIGN     4.7   \n",
              "3                              Sketch - Draw & Paint  ART_AND_DESIGN     4.5   \n",
              "4              Pixel Draw - Number Art Coloring Book  ART_AND_DESIGN     4.3   \n",
              "\n",
              "  Reviews  Size     Installs  Type Price Content Rating  \\\n",
              "0     159   19M      10,000+  Free     0       Everyone   \n",
              "1     967   14M     500,000+  Free     0       Everyone   \n",
              "2   87510  8.7M   5,000,000+  Free     0       Everyone   \n",
              "3  215644   25M  50,000,000+  Free     0           Teen   \n",
              "4     967  2.8M     100,000+  Free     0       Everyone   \n",
              "\n",
              "                      Genres      Last Updated         Current Ver  \\\n",
              "0               Art & Design   January 7, 2018               1.0.0   \n",
              "1  Art & Design;Pretend Play  January 15, 2018               2.0.0   \n",
              "2               Art & Design    August 1, 2018               1.2.4   \n",
              "3               Art & Design      June 8, 2018  Varies with device   \n",
              "4    Art & Design;Creativity     June 20, 2018                 1.1   \n",
              "\n",
              "    Android Ver  \n",
              "0  4.0.3 and up  \n",
              "1  4.0.3 and up  \n",
              "2  4.0.3 and up  \n",
              "3    4.2 and up  \n",
              "4    4.4 and up  "
            ],
            "text/html": [
              "\n",
              "  <div id=\"df-7655ea15-b2c4-4116-845a-7da3f7d5fea3\" class=\"colab-df-container\">\n",
              "    <div>\n",
              "<style scoped>\n",
              "    .dataframe tbody tr th:only-of-type {\n",
              "        vertical-align: middle;\n",
              "    }\n",
              "\n",
              "    .dataframe tbody tr th {\n",
              "        vertical-align: top;\n",
              "    }\n",
              "\n",
              "    .dataframe thead th {\n",
              "        text-align: right;\n",
              "    }\n",
              "</style>\n",
              "<table border=\"1\" class=\"dataframe\">\n",
              "  <thead>\n",
              "    <tr style=\"text-align: right;\">\n",
              "      <th></th>\n",
              "      <th>App</th>\n",
              "      <th>Category</th>\n",
              "      <th>Rating</th>\n",
              "      <th>Reviews</th>\n",
              "      <th>Size</th>\n",
              "      <th>Installs</th>\n",
              "      <th>Type</th>\n",
              "      <th>Price</th>\n",
              "      <th>Content Rating</th>\n",
              "      <th>Genres</th>\n",
              "      <th>Last Updated</th>\n",
              "      <th>Current Ver</th>\n",
              "      <th>Android Ver</th>\n",
              "    </tr>\n",
              "  </thead>\n",
              "  <tbody>\n",
              "    <tr>\n",
              "      <th>0</th>\n",
              "      <td>Photo Editor &amp; Candy Camera &amp; Grid &amp; ScrapBook</td>\n",
              "      <td>ART_AND_DESIGN</td>\n",
              "      <td>4.1</td>\n",
              "      <td>159</td>\n",
              "      <td>19M</td>\n",
              "      <td>10,000+</td>\n",
              "      <td>Free</td>\n",
              "      <td>0</td>\n",
              "      <td>Everyone</td>\n",
              "      <td>Art &amp; Design</td>\n",
              "      <td>January 7, 2018</td>\n",
              "      <td>1.0.0</td>\n",
              "      <td>4.0.3 and up</td>\n",
              "    </tr>\n",
              "    <tr>\n",
              "      <th>1</th>\n",
              "      <td>Coloring book moana</td>\n",
              "      <td>ART_AND_DESIGN</td>\n",
              "      <td>3.9</td>\n",
              "      <td>967</td>\n",
              "      <td>14M</td>\n",
              "      <td>500,000+</td>\n",
              "      <td>Free</td>\n",
              "      <td>0</td>\n",
              "      <td>Everyone</td>\n",
              "      <td>Art &amp; Design;Pretend Play</td>\n",
              "      <td>January 15, 2018</td>\n",
              "      <td>2.0.0</td>\n",
              "      <td>4.0.3 and up</td>\n",
              "    </tr>\n",
              "    <tr>\n",
              "      <th>2</th>\n",
              "      <td>U Launcher Lite – FREE Live Cool Themes, Hide ...</td>\n",
              "      <td>ART_AND_DESIGN</td>\n",
              "      <td>4.7</td>\n",
              "      <td>87510</td>\n",
              "      <td>8.7M</td>\n",
              "      <td>5,000,000+</td>\n",
              "      <td>Free</td>\n",
              "      <td>0</td>\n",
              "      <td>Everyone</td>\n",
              "      <td>Art &amp; Design</td>\n",
              "      <td>August 1, 2018</td>\n",
              "      <td>1.2.4</td>\n",
              "      <td>4.0.3 and up</td>\n",
              "    </tr>\n",
              "    <tr>\n",
              "      <th>3</th>\n",
              "      <td>Sketch - Draw &amp; Paint</td>\n",
              "      <td>ART_AND_DESIGN</td>\n",
              "      <td>4.5</td>\n",
              "      <td>215644</td>\n",
              "      <td>25M</td>\n",
              "      <td>50,000,000+</td>\n",
              "      <td>Free</td>\n",
              "      <td>0</td>\n",
              "      <td>Teen</td>\n",
              "      <td>Art &amp; Design</td>\n",
              "      <td>June 8, 2018</td>\n",
              "      <td>Varies with device</td>\n",
              "      <td>4.2 and up</td>\n",
              "    </tr>\n",
              "    <tr>\n",
              "      <th>4</th>\n",
              "      <td>Pixel Draw - Number Art Coloring Book</td>\n",
              "      <td>ART_AND_DESIGN</td>\n",
              "      <td>4.3</td>\n",
              "      <td>967</td>\n",
              "      <td>2.8M</td>\n",
              "      <td>100,000+</td>\n",
              "      <td>Free</td>\n",
              "      <td>0</td>\n",
              "      <td>Everyone</td>\n",
              "      <td>Art &amp; Design;Creativity</td>\n",
              "      <td>June 20, 2018</td>\n",
              "      <td>1.1</td>\n",
              "      <td>4.4 and up</td>\n",
              "    </tr>\n",
              "  </tbody>\n",
              "</table>\n",
              "</div>\n",
              "    <div class=\"colab-df-buttons\">\n",
              "\n",
              "  <div class=\"colab-df-container\">\n",
              "    <button class=\"colab-df-convert\" onclick=\"convertToInteractive('df-7655ea15-b2c4-4116-845a-7da3f7d5fea3')\"\n",
              "            title=\"Convert this dataframe to an interactive table.\"\n",
              "            style=\"display:none;\">\n",
              "\n",
              "  <svg xmlns=\"http://www.w3.org/2000/svg\" height=\"24px\" viewBox=\"0 -960 960 960\">\n",
              "    <path d=\"M120-120v-720h720v720H120Zm60-500h600v-160H180v160Zm220 220h160v-160H400v160Zm0 220h160v-160H400v160ZM180-400h160v-160H180v160Zm440 0h160v-160H620v160ZM180-180h160v-160H180v160Zm440 0h160v-160H620v160Z\"/>\n",
              "  </svg>\n",
              "    </button>\n",
              "\n",
              "  <style>\n",
              "    .colab-df-container {\n",
              "      display:flex;\n",
              "      gap: 12px;\n",
              "    }\n",
              "\n",
              "    .colab-df-convert {\n",
              "      background-color: #E8F0FE;\n",
              "      border: none;\n",
              "      border-radius: 50%;\n",
              "      cursor: pointer;\n",
              "      display: none;\n",
              "      fill: #1967D2;\n",
              "      height: 32px;\n",
              "      padding: 0 0 0 0;\n",
              "      width: 32px;\n",
              "    }\n",
              "\n",
              "    .colab-df-convert:hover {\n",
              "      background-color: #E2EBFA;\n",
              "      box-shadow: 0px 1px 2px rgba(60, 64, 67, 0.3), 0px 1px 3px 1px rgba(60, 64, 67, 0.15);\n",
              "      fill: #174EA6;\n",
              "    }\n",
              "\n",
              "    .colab-df-buttons div {\n",
              "      margin-bottom: 4px;\n",
              "    }\n",
              "\n",
              "    [theme=dark] .colab-df-convert {\n",
              "      background-color: #3B4455;\n",
              "      fill: #D2E3FC;\n",
              "    }\n",
              "\n",
              "    [theme=dark] .colab-df-convert:hover {\n",
              "      background-color: #434B5C;\n",
              "      box-shadow: 0px 1px 3px 1px rgba(0, 0, 0, 0.15);\n",
              "      filter: drop-shadow(0px 1px 2px rgba(0, 0, 0, 0.3));\n",
              "      fill: #FFFFFF;\n",
              "    }\n",
              "  </style>\n",
              "\n",
              "    <script>\n",
              "      const buttonEl =\n",
              "        document.querySelector('#df-7655ea15-b2c4-4116-845a-7da3f7d5fea3 button.colab-df-convert');\n",
              "      buttonEl.style.display =\n",
              "        google.colab.kernel.accessAllowed ? 'block' : 'none';\n",
              "\n",
              "      async function convertToInteractive(key) {\n",
              "        const element = document.querySelector('#df-7655ea15-b2c4-4116-845a-7da3f7d5fea3');\n",
              "        const dataTable =\n",
              "          await google.colab.kernel.invokeFunction('convertToInteractive',\n",
              "                                                    [key], {});\n",
              "        if (!dataTable) return;\n",
              "\n",
              "        const docLinkHtml = 'Like what you see? Visit the ' +\n",
              "          '<a target=\"_blank\" href=https://colab.research.google.com/notebooks/data_table.ipynb>data table notebook</a>'\n",
              "          + ' to learn more about interactive tables.';\n",
              "        element.innerHTML = '';\n",
              "        dataTable['output_type'] = 'display_data';\n",
              "        await google.colab.output.renderOutput(dataTable, element);\n",
              "        const docLink = document.createElement('div');\n",
              "        docLink.innerHTML = docLinkHtml;\n",
              "        element.appendChild(docLink);\n",
              "      }\n",
              "    </script>\n",
              "  </div>\n",
              "\n",
              "\n",
              "    <div id=\"df-1446b030-593c-4a03-9600-bbefa20f69de\">\n",
              "      <button class=\"colab-df-quickchart\" onclick=\"quickchart('df-1446b030-593c-4a03-9600-bbefa20f69de')\"\n",
              "                title=\"Suggest charts\"\n",
              "                style=\"display:none;\">\n",
              "\n",
              "<svg xmlns=\"http://www.w3.org/2000/svg\" height=\"24px\"viewBox=\"0 0 24 24\"\n",
              "     width=\"24px\">\n",
              "    <g>\n",
              "        <path d=\"M19 3H5c-1.1 0-2 .9-2 2v14c0 1.1.9 2 2 2h14c1.1 0 2-.9 2-2V5c0-1.1-.9-2-2-2zM9 17H7v-7h2v7zm4 0h-2V7h2v10zm4 0h-2v-4h2v4z\"/>\n",
              "    </g>\n",
              "</svg>\n",
              "      </button>\n",
              "\n",
              "<style>\n",
              "  .colab-df-quickchart {\n",
              "      --bg-color: #E8F0FE;\n",
              "      --fill-color: #1967D2;\n",
              "      --hover-bg-color: #E2EBFA;\n",
              "      --hover-fill-color: #174EA6;\n",
              "      --disabled-fill-color: #AAA;\n",
              "      --disabled-bg-color: #DDD;\n",
              "  }\n",
              "\n",
              "  [theme=dark] .colab-df-quickchart {\n",
              "      --bg-color: #3B4455;\n",
              "      --fill-color: #D2E3FC;\n",
              "      --hover-bg-color: #434B5C;\n",
              "      --hover-fill-color: #FFFFFF;\n",
              "      --disabled-bg-color: #3B4455;\n",
              "      --disabled-fill-color: #666;\n",
              "  }\n",
              "\n",
              "  .colab-df-quickchart {\n",
              "    background-color: var(--bg-color);\n",
              "    border: none;\n",
              "    border-radius: 50%;\n",
              "    cursor: pointer;\n",
              "    display: none;\n",
              "    fill: var(--fill-color);\n",
              "    height: 32px;\n",
              "    padding: 0;\n",
              "    width: 32px;\n",
              "  }\n",
              "\n",
              "  .colab-df-quickchart:hover {\n",
              "    background-color: var(--hover-bg-color);\n",
              "    box-shadow: 0 1px 2px rgba(60, 64, 67, 0.3), 0 1px 3px 1px rgba(60, 64, 67, 0.15);\n",
              "    fill: var(--button-hover-fill-color);\n",
              "  }\n",
              "\n",
              "  .colab-df-quickchart-complete:disabled,\n",
              "  .colab-df-quickchart-complete:disabled:hover {\n",
              "    background-color: var(--disabled-bg-color);\n",
              "    fill: var(--disabled-fill-color);\n",
              "    box-shadow: none;\n",
              "  }\n",
              "\n",
              "  .colab-df-spinner {\n",
              "    border: 2px solid var(--fill-color);\n",
              "    border-color: transparent;\n",
              "    border-bottom-color: var(--fill-color);\n",
              "    animation:\n",
              "      spin 1s steps(1) infinite;\n",
              "  }\n",
              "\n",
              "  @keyframes spin {\n",
              "    0% {\n",
              "      border-color: transparent;\n",
              "      border-bottom-color: var(--fill-color);\n",
              "      border-left-color: var(--fill-color);\n",
              "    }\n",
              "    20% {\n",
              "      border-color: transparent;\n",
              "      border-left-color: var(--fill-color);\n",
              "      border-top-color: var(--fill-color);\n",
              "    }\n",
              "    30% {\n",
              "      border-color: transparent;\n",
              "      border-left-color: var(--fill-color);\n",
              "      border-top-color: var(--fill-color);\n",
              "      border-right-color: var(--fill-color);\n",
              "    }\n",
              "    40% {\n",
              "      border-color: transparent;\n",
              "      border-right-color: var(--fill-color);\n",
              "      border-top-color: var(--fill-color);\n",
              "    }\n",
              "    60% {\n",
              "      border-color: transparent;\n",
              "      border-right-color: var(--fill-color);\n",
              "    }\n",
              "    80% {\n",
              "      border-color: transparent;\n",
              "      border-right-color: var(--fill-color);\n",
              "      border-bottom-color: var(--fill-color);\n",
              "    }\n",
              "    90% {\n",
              "      border-color: transparent;\n",
              "      border-bottom-color: var(--fill-color);\n",
              "    }\n",
              "  }\n",
              "</style>\n",
              "\n",
              "      <script>\n",
              "        async function quickchart(key) {\n",
              "          const quickchartButtonEl =\n",
              "            document.querySelector('#' + key + ' button');\n",
              "          quickchartButtonEl.disabled = true;  // To prevent multiple clicks.\n",
              "          quickchartButtonEl.classList.add('colab-df-spinner');\n",
              "          try {\n",
              "            const charts = await google.colab.kernel.invokeFunction(\n",
              "                'suggestCharts', [key], {});\n",
              "          } catch (error) {\n",
              "            console.error('Error during call to suggestCharts:', error);\n",
              "          }\n",
              "          quickchartButtonEl.classList.remove('colab-df-spinner');\n",
              "          quickchartButtonEl.classList.add('colab-df-quickchart-complete');\n",
              "        }\n",
              "        (() => {\n",
              "          let quickchartButtonEl =\n",
              "            document.querySelector('#df-1446b030-593c-4a03-9600-bbefa20f69de button');\n",
              "          quickchartButtonEl.style.display =\n",
              "            google.colab.kernel.accessAllowed ? 'block' : 'none';\n",
              "        })();\n",
              "      </script>\n",
              "    </div>\n",
              "\n",
              "    </div>\n",
              "  </div>\n"
            ],
            "application/vnd.google.colaboratory.intrinsic+json": {
              "type": "dataframe",
              "variable_name": "df",
              "summary": "{\n  \"name\": \"df\",\n  \"rows\": 10841,\n  \"fields\": [\n    {\n      \"column\": \"App\",\n      \"properties\": {\n        \"dtype\": \"string\",\n        \"num_unique_values\": 9660,\n        \"samples\": [\n          \"Run R Script - Online Statistical Data Analysis\",\n          \"EURES - Your Job in Europe\",\n          \"Dog Licks Screen Wallpaper\"\n        ],\n        \"semantic_type\": \"\",\n        \"description\": \"\"\n      }\n    },\n    {\n      \"column\": \"Category\",\n      \"properties\": {\n        \"dtype\": \"category\",\n        \"num_unique_values\": 34,\n        \"samples\": [\n          \"LIBRARIES_AND_DEMO\",\n          \"MEDICAL\",\n          \"PRODUCTIVITY\"\n        ],\n        \"semantic_type\": \"\",\n        \"description\": \"\"\n      }\n    },\n    {\n      \"column\": \"Rating\",\n      \"properties\": {\n        \"dtype\": \"number\",\n        \"std\": 0.5374313031477594,\n        \"min\": 1.0,\n        \"max\": 19.0,\n        \"num_unique_values\": 40,\n        \"samples\": [\n          5.0,\n          3.4,\n          3.3\n        ],\n        \"semantic_type\": \"\",\n        \"description\": \"\"\n      }\n    },\n    {\n      \"column\": \"Reviews\",\n      \"properties\": {\n        \"dtype\": \"string\",\n        \"num_unique_values\": 6002,\n        \"samples\": [\n          \"66661\",\n          \"7479\",\n          \"8978\"\n        ],\n        \"semantic_type\": \"\",\n        \"description\": \"\"\n      }\n    },\n    {\n      \"column\": \"Size\",\n      \"properties\": {\n        \"dtype\": \"category\",\n        \"num_unique_values\": 462,\n        \"samples\": [\n          \"746k\",\n          \"9.4M\",\n          \"35M\"\n        ],\n        \"semantic_type\": \"\",\n        \"description\": \"\"\n      }\n    },\n    {\n      \"column\": \"Installs\",\n      \"properties\": {\n        \"dtype\": \"category\",\n        \"num_unique_values\": 22,\n        \"samples\": [\n          \"10,000+\",\n          \"50+\",\n          \"5,000+\"\n        ],\n        \"semantic_type\": \"\",\n        \"description\": \"\"\n      }\n    },\n    {\n      \"column\": \"Type\",\n      \"properties\": {\n        \"dtype\": \"category\",\n        \"num_unique_values\": 3,\n        \"samples\": [\n          \"Free\",\n          \"Paid\",\n          \"0\"\n        ],\n        \"semantic_type\": \"\",\n        \"description\": \"\"\n      }\n    },\n    {\n      \"column\": \"Price\",\n      \"properties\": {\n        \"dtype\": \"category\",\n        \"num_unique_values\": 93,\n        \"samples\": [\n          \"$17.99\",\n          \"$29.99\",\n          \"$37.99\"\n        ],\n        \"semantic_type\": \"\",\n        \"description\": \"\"\n      }\n    },\n    {\n      \"column\": \"Content Rating\",\n      \"properties\": {\n        \"dtype\": \"category\",\n        \"num_unique_values\": 6,\n        \"samples\": [\n          \"Everyone\",\n          \"Teen\",\n          \"Unrated\"\n        ],\n        \"semantic_type\": \"\",\n        \"description\": \"\"\n      }\n    },\n    {\n      \"column\": \"Genres\",\n      \"properties\": {\n        \"dtype\": \"category\",\n        \"num_unique_values\": 120,\n        \"samples\": [\n          \"Casual;Action & Adventure\",\n          \"Board\",\n          \"Auto & Vehicles\"\n        ],\n        \"semantic_type\": \"\",\n        \"description\": \"\"\n      }\n    },\n    {\n      \"column\": \"Last Updated\",\n      \"properties\": {\n        \"dtype\": \"category\",\n        \"num_unique_values\": 1378,\n        \"samples\": [\n          \"March 15, 2016\",\n          \"May 14, 2013\",\n          \"October 21, 2015\"\n        ],\n        \"semantic_type\": \"\",\n        \"description\": \"\"\n      }\n    },\n    {\n      \"column\": \"Current Ver\",\n      \"properties\": {\n        \"dtype\": \"category\",\n        \"num_unique_values\": 2832,\n        \"samples\": [\n          \"7.0.4.17908\",\n          \"1.2.5.4-11\",\n          \"2.5.7.1\"\n        ],\n        \"semantic_type\": \"\",\n        \"description\": \"\"\n      }\n    },\n    {\n      \"column\": \"Android Ver\",\n      \"properties\": {\n        \"dtype\": \"category\",\n        \"num_unique_values\": 33,\n        \"samples\": [\n          \"2.2 - 7.1.1\",\n          \"7.0 and up\",\n          \"3.1 and up\"\n        ],\n        \"semantic_type\": \"\",\n        \"description\": \"\"\n      }\n    }\n  ]\n}"
            }
          },
          "metadata": {},
          "execution_count": 1085
        }
      ],
      "source": [
        "import pandas as pd\n",
        "df = pd.read_csv('/content/googleplaystore.csv')\n",
        "df.head()"
      ]
    },
    {
      "cell_type": "code",
      "execution_count": 1086,
      "metadata": {
        "colab": {
          "base_uri": "https://localhost:8080/"
        },
        "id": "dYhEdW_RM_Lk",
        "outputId": "ff91ba6e-cc8a-4b6b-9b1b-727152265cc9"
      },
      "outputs": [
        {
          "output_type": "stream",
          "name": "stdout",
          "text": [
            "<class 'pandas.core.frame.DataFrame'>\n",
            "RangeIndex: 10841 entries, 0 to 10840\n",
            "Data columns (total 13 columns):\n",
            " #   Column          Non-Null Count  Dtype  \n",
            "---  ------          --------------  -----  \n",
            " 0   App             10841 non-null  object \n",
            " 1   Category        10841 non-null  object \n",
            " 2   Rating          9367 non-null   float64\n",
            " 3   Reviews         10841 non-null  object \n",
            " 4   Size            10841 non-null  object \n",
            " 5   Installs        10841 non-null  object \n",
            " 6   Type            10840 non-null  object \n",
            " 7   Price           10841 non-null  object \n",
            " 8   Content Rating  10840 non-null  object \n",
            " 9   Genres          10841 non-null  object \n",
            " 10  Last Updated    10841 non-null  object \n",
            " 11  Current Ver     10833 non-null  object \n",
            " 12  Android Ver     10838 non-null  object \n",
            "dtypes: float64(1), object(12)\n",
            "memory usage: 1.1+ MB\n"
          ]
        }
      ],
      "source": [
        "df.info()"
      ]
    },
    {
      "cell_type": "code",
      "source": [],
      "metadata": {
        "id": "2fnpdjUn8xzK"
      },
      "execution_count": 1086,
      "outputs": []
    },
    {
      "cell_type": "code",
      "execution_count": 1087,
      "metadata": {
        "colab": {
          "base_uri": "https://localhost:8080/",
          "height": 300
        },
        "id": "Gl9Wf67uNBMp",
        "outputId": "6989c634-708c-4e49-e315-97104cca6c7e"
      },
      "outputs": [
        {
          "output_type": "execute_result",
          "data": {
            "text/plain": [
              "            Rating\n",
              "count  9367.000000\n",
              "mean      4.193338\n",
              "std       0.537431\n",
              "min       1.000000\n",
              "25%       4.000000\n",
              "50%       4.300000\n",
              "75%       4.500000\n",
              "max      19.000000"
            ],
            "text/html": [
              "\n",
              "  <div id=\"df-e86640b6-9008-46db-8df7-f3a2d86a1ff3\" class=\"colab-df-container\">\n",
              "    <div>\n",
              "<style scoped>\n",
              "    .dataframe tbody tr th:only-of-type {\n",
              "        vertical-align: middle;\n",
              "    }\n",
              "\n",
              "    .dataframe tbody tr th {\n",
              "        vertical-align: top;\n",
              "    }\n",
              "\n",
              "    .dataframe thead th {\n",
              "        text-align: right;\n",
              "    }\n",
              "</style>\n",
              "<table border=\"1\" class=\"dataframe\">\n",
              "  <thead>\n",
              "    <tr style=\"text-align: right;\">\n",
              "      <th></th>\n",
              "      <th>Rating</th>\n",
              "    </tr>\n",
              "  </thead>\n",
              "  <tbody>\n",
              "    <tr>\n",
              "      <th>count</th>\n",
              "      <td>9367.000000</td>\n",
              "    </tr>\n",
              "    <tr>\n",
              "      <th>mean</th>\n",
              "      <td>4.193338</td>\n",
              "    </tr>\n",
              "    <tr>\n",
              "      <th>std</th>\n",
              "      <td>0.537431</td>\n",
              "    </tr>\n",
              "    <tr>\n",
              "      <th>min</th>\n",
              "      <td>1.000000</td>\n",
              "    </tr>\n",
              "    <tr>\n",
              "      <th>25%</th>\n",
              "      <td>4.000000</td>\n",
              "    </tr>\n",
              "    <tr>\n",
              "      <th>50%</th>\n",
              "      <td>4.300000</td>\n",
              "    </tr>\n",
              "    <tr>\n",
              "      <th>75%</th>\n",
              "      <td>4.500000</td>\n",
              "    </tr>\n",
              "    <tr>\n",
              "      <th>max</th>\n",
              "      <td>19.000000</td>\n",
              "    </tr>\n",
              "  </tbody>\n",
              "</table>\n",
              "</div>\n",
              "    <div class=\"colab-df-buttons\">\n",
              "\n",
              "  <div class=\"colab-df-container\">\n",
              "    <button class=\"colab-df-convert\" onclick=\"convertToInteractive('df-e86640b6-9008-46db-8df7-f3a2d86a1ff3')\"\n",
              "            title=\"Convert this dataframe to an interactive table.\"\n",
              "            style=\"display:none;\">\n",
              "\n",
              "  <svg xmlns=\"http://www.w3.org/2000/svg\" height=\"24px\" viewBox=\"0 -960 960 960\">\n",
              "    <path d=\"M120-120v-720h720v720H120Zm60-500h600v-160H180v160Zm220 220h160v-160H400v160Zm0 220h160v-160H400v160ZM180-400h160v-160H180v160Zm440 0h160v-160H620v160ZM180-180h160v-160H180v160Zm440 0h160v-160H620v160Z\"/>\n",
              "  </svg>\n",
              "    </button>\n",
              "\n",
              "  <style>\n",
              "    .colab-df-container {\n",
              "      display:flex;\n",
              "      gap: 12px;\n",
              "    }\n",
              "\n",
              "    .colab-df-convert {\n",
              "      background-color: #E8F0FE;\n",
              "      border: none;\n",
              "      border-radius: 50%;\n",
              "      cursor: pointer;\n",
              "      display: none;\n",
              "      fill: #1967D2;\n",
              "      height: 32px;\n",
              "      padding: 0 0 0 0;\n",
              "      width: 32px;\n",
              "    }\n",
              "\n",
              "    .colab-df-convert:hover {\n",
              "      background-color: #E2EBFA;\n",
              "      box-shadow: 0px 1px 2px rgba(60, 64, 67, 0.3), 0px 1px 3px 1px rgba(60, 64, 67, 0.15);\n",
              "      fill: #174EA6;\n",
              "    }\n",
              "\n",
              "    .colab-df-buttons div {\n",
              "      margin-bottom: 4px;\n",
              "    }\n",
              "\n",
              "    [theme=dark] .colab-df-convert {\n",
              "      background-color: #3B4455;\n",
              "      fill: #D2E3FC;\n",
              "    }\n",
              "\n",
              "    [theme=dark] .colab-df-convert:hover {\n",
              "      background-color: #434B5C;\n",
              "      box-shadow: 0px 1px 3px 1px rgba(0, 0, 0, 0.15);\n",
              "      filter: drop-shadow(0px 1px 2px rgba(0, 0, 0, 0.3));\n",
              "      fill: #FFFFFF;\n",
              "    }\n",
              "  </style>\n",
              "\n",
              "    <script>\n",
              "      const buttonEl =\n",
              "        document.querySelector('#df-e86640b6-9008-46db-8df7-f3a2d86a1ff3 button.colab-df-convert');\n",
              "      buttonEl.style.display =\n",
              "        google.colab.kernel.accessAllowed ? 'block' : 'none';\n",
              "\n",
              "      async function convertToInteractive(key) {\n",
              "        const element = document.querySelector('#df-e86640b6-9008-46db-8df7-f3a2d86a1ff3');\n",
              "        const dataTable =\n",
              "          await google.colab.kernel.invokeFunction('convertToInteractive',\n",
              "                                                    [key], {});\n",
              "        if (!dataTable) return;\n",
              "\n",
              "        const docLinkHtml = 'Like what you see? Visit the ' +\n",
              "          '<a target=\"_blank\" href=https://colab.research.google.com/notebooks/data_table.ipynb>data table notebook</a>'\n",
              "          + ' to learn more about interactive tables.';\n",
              "        element.innerHTML = '';\n",
              "        dataTable['output_type'] = 'display_data';\n",
              "        await google.colab.output.renderOutput(dataTable, element);\n",
              "        const docLink = document.createElement('div');\n",
              "        docLink.innerHTML = docLinkHtml;\n",
              "        element.appendChild(docLink);\n",
              "      }\n",
              "    </script>\n",
              "  </div>\n",
              "\n",
              "\n",
              "    <div id=\"df-862c78aa-5caa-444e-a097-2013d61dcdb8\">\n",
              "      <button class=\"colab-df-quickchart\" onclick=\"quickchart('df-862c78aa-5caa-444e-a097-2013d61dcdb8')\"\n",
              "                title=\"Suggest charts\"\n",
              "                style=\"display:none;\">\n",
              "\n",
              "<svg xmlns=\"http://www.w3.org/2000/svg\" height=\"24px\"viewBox=\"0 0 24 24\"\n",
              "     width=\"24px\">\n",
              "    <g>\n",
              "        <path d=\"M19 3H5c-1.1 0-2 .9-2 2v14c0 1.1.9 2 2 2h14c1.1 0 2-.9 2-2V5c0-1.1-.9-2-2-2zM9 17H7v-7h2v7zm4 0h-2V7h2v10zm4 0h-2v-4h2v4z\"/>\n",
              "    </g>\n",
              "</svg>\n",
              "      </button>\n",
              "\n",
              "<style>\n",
              "  .colab-df-quickchart {\n",
              "      --bg-color: #E8F0FE;\n",
              "      --fill-color: #1967D2;\n",
              "      --hover-bg-color: #E2EBFA;\n",
              "      --hover-fill-color: #174EA6;\n",
              "      --disabled-fill-color: #AAA;\n",
              "      --disabled-bg-color: #DDD;\n",
              "  }\n",
              "\n",
              "  [theme=dark] .colab-df-quickchart {\n",
              "      --bg-color: #3B4455;\n",
              "      --fill-color: #D2E3FC;\n",
              "      --hover-bg-color: #434B5C;\n",
              "      --hover-fill-color: #FFFFFF;\n",
              "      --disabled-bg-color: #3B4455;\n",
              "      --disabled-fill-color: #666;\n",
              "  }\n",
              "\n",
              "  .colab-df-quickchart {\n",
              "    background-color: var(--bg-color);\n",
              "    border: none;\n",
              "    border-radius: 50%;\n",
              "    cursor: pointer;\n",
              "    display: none;\n",
              "    fill: var(--fill-color);\n",
              "    height: 32px;\n",
              "    padding: 0;\n",
              "    width: 32px;\n",
              "  }\n",
              "\n",
              "  .colab-df-quickchart:hover {\n",
              "    background-color: var(--hover-bg-color);\n",
              "    box-shadow: 0 1px 2px rgba(60, 64, 67, 0.3), 0 1px 3px 1px rgba(60, 64, 67, 0.15);\n",
              "    fill: var(--button-hover-fill-color);\n",
              "  }\n",
              "\n",
              "  .colab-df-quickchart-complete:disabled,\n",
              "  .colab-df-quickchart-complete:disabled:hover {\n",
              "    background-color: var(--disabled-bg-color);\n",
              "    fill: var(--disabled-fill-color);\n",
              "    box-shadow: none;\n",
              "  }\n",
              "\n",
              "  .colab-df-spinner {\n",
              "    border: 2px solid var(--fill-color);\n",
              "    border-color: transparent;\n",
              "    border-bottom-color: var(--fill-color);\n",
              "    animation:\n",
              "      spin 1s steps(1) infinite;\n",
              "  }\n",
              "\n",
              "  @keyframes spin {\n",
              "    0% {\n",
              "      border-color: transparent;\n",
              "      border-bottom-color: var(--fill-color);\n",
              "      border-left-color: var(--fill-color);\n",
              "    }\n",
              "    20% {\n",
              "      border-color: transparent;\n",
              "      border-left-color: var(--fill-color);\n",
              "      border-top-color: var(--fill-color);\n",
              "    }\n",
              "    30% {\n",
              "      border-color: transparent;\n",
              "      border-left-color: var(--fill-color);\n",
              "      border-top-color: var(--fill-color);\n",
              "      border-right-color: var(--fill-color);\n",
              "    }\n",
              "    40% {\n",
              "      border-color: transparent;\n",
              "      border-right-color: var(--fill-color);\n",
              "      border-top-color: var(--fill-color);\n",
              "    }\n",
              "    60% {\n",
              "      border-color: transparent;\n",
              "      border-right-color: var(--fill-color);\n",
              "    }\n",
              "    80% {\n",
              "      border-color: transparent;\n",
              "      border-right-color: var(--fill-color);\n",
              "      border-bottom-color: var(--fill-color);\n",
              "    }\n",
              "    90% {\n",
              "      border-color: transparent;\n",
              "      border-bottom-color: var(--fill-color);\n",
              "    }\n",
              "  }\n",
              "</style>\n",
              "\n",
              "      <script>\n",
              "        async function quickchart(key) {\n",
              "          const quickchartButtonEl =\n",
              "            document.querySelector('#' + key + ' button');\n",
              "          quickchartButtonEl.disabled = true;  // To prevent multiple clicks.\n",
              "          quickchartButtonEl.classList.add('colab-df-spinner');\n",
              "          try {\n",
              "            const charts = await google.colab.kernel.invokeFunction(\n",
              "                'suggestCharts', [key], {});\n",
              "          } catch (error) {\n",
              "            console.error('Error during call to suggestCharts:', error);\n",
              "          }\n",
              "          quickchartButtonEl.classList.remove('colab-df-spinner');\n",
              "          quickchartButtonEl.classList.add('colab-df-quickchart-complete');\n",
              "        }\n",
              "        (() => {\n",
              "          let quickchartButtonEl =\n",
              "            document.querySelector('#df-862c78aa-5caa-444e-a097-2013d61dcdb8 button');\n",
              "          quickchartButtonEl.style.display =\n",
              "            google.colab.kernel.accessAllowed ? 'block' : 'none';\n",
              "        })();\n",
              "      </script>\n",
              "    </div>\n",
              "\n",
              "    </div>\n",
              "  </div>\n"
            ],
            "application/vnd.google.colaboratory.intrinsic+json": {
              "type": "dataframe",
              "summary": "{\n  \"name\": \"df\",\n  \"rows\": 8,\n  \"fields\": [\n    {\n      \"column\": \"Rating\",\n      \"properties\": {\n        \"dtype\": \"number\",\n        \"std\": 3309.8440562818705,\n        \"min\": 0.5374313031477594,\n        \"max\": 9367.0,\n        \"num_unique_values\": 8,\n        \"samples\": [\n          4.193338315362443,\n          4.3,\n          9367.0\n        ],\n        \"semantic_type\": \"\",\n        \"description\": \"\"\n      }\n    }\n  ]\n}"
            }
          },
          "metadata": {},
          "execution_count": 1087
        }
      ],
      "source": [
        "df.describe()"
      ]
    },
    {
      "cell_type": "code",
      "source": [
        "df[\"App\"].drop_duplicates()"
      ],
      "metadata": {
        "colab": {
          "base_uri": "https://localhost:8080/",
          "height": 458
        },
        "id": "lwU3BzgQ8Hgc",
        "outputId": "76ac18c1-b9fe-4450-f382-4d0fcab9bf6f"
      },
      "execution_count": 1088,
      "outputs": [
        {
          "output_type": "execute_result",
          "data": {
            "text/plain": [
              "0           Photo Editor & Candy Camera & Grid & ScrapBook\n",
              "1                                      Coloring book moana\n",
              "2        U Launcher Lite – FREE Live Cool Themes, Hide ...\n",
              "3                                    Sketch - Draw & Paint\n",
              "4                    Pixel Draw - Number Art Coloring Book\n",
              "                               ...                        \n",
              "10836                                     Sya9a Maroc - FR\n",
              "10837                     Fr. Mike Schmitz Audio Teachings\n",
              "10838                               Parkinson Exercices FR\n",
              "10839                        The SCP Foundation DB fr nn5n\n",
              "10840        iHoroscope - 2018 Daily Horoscope & Astrology\n",
              "Name: App, Length: 9660, dtype: object"
            ],
            "text/html": [
              "<div>\n",
              "<style scoped>\n",
              "    .dataframe tbody tr th:only-of-type {\n",
              "        vertical-align: middle;\n",
              "    }\n",
              "\n",
              "    .dataframe tbody tr th {\n",
              "        vertical-align: top;\n",
              "    }\n",
              "\n",
              "    .dataframe thead th {\n",
              "        text-align: right;\n",
              "    }\n",
              "</style>\n",
              "<table border=\"1\" class=\"dataframe\">\n",
              "  <thead>\n",
              "    <tr style=\"text-align: right;\">\n",
              "      <th></th>\n",
              "      <th>App</th>\n",
              "    </tr>\n",
              "  </thead>\n",
              "  <tbody>\n",
              "    <tr>\n",
              "      <th>0</th>\n",
              "      <td>Photo Editor &amp; Candy Camera &amp; Grid &amp; ScrapBook</td>\n",
              "    </tr>\n",
              "    <tr>\n",
              "      <th>1</th>\n",
              "      <td>Coloring book moana</td>\n",
              "    </tr>\n",
              "    <tr>\n",
              "      <th>2</th>\n",
              "      <td>U Launcher Lite – FREE Live Cool Themes, Hide ...</td>\n",
              "    </tr>\n",
              "    <tr>\n",
              "      <th>3</th>\n",
              "      <td>Sketch - Draw &amp; Paint</td>\n",
              "    </tr>\n",
              "    <tr>\n",
              "      <th>4</th>\n",
              "      <td>Pixel Draw - Number Art Coloring Book</td>\n",
              "    </tr>\n",
              "    <tr>\n",
              "      <th>...</th>\n",
              "      <td>...</td>\n",
              "    </tr>\n",
              "    <tr>\n",
              "      <th>10836</th>\n",
              "      <td>Sya9a Maroc - FR</td>\n",
              "    </tr>\n",
              "    <tr>\n",
              "      <th>10837</th>\n",
              "      <td>Fr. Mike Schmitz Audio Teachings</td>\n",
              "    </tr>\n",
              "    <tr>\n",
              "      <th>10838</th>\n",
              "      <td>Parkinson Exercices FR</td>\n",
              "    </tr>\n",
              "    <tr>\n",
              "      <th>10839</th>\n",
              "      <td>The SCP Foundation DB fr nn5n</td>\n",
              "    </tr>\n",
              "    <tr>\n",
              "      <th>10840</th>\n",
              "      <td>iHoroscope - 2018 Daily Horoscope &amp; Astrology</td>\n",
              "    </tr>\n",
              "  </tbody>\n",
              "</table>\n",
              "<p>9660 rows × 1 columns</p>\n",
              "</div><br><label><b>dtype:</b> object</label>"
            ]
          },
          "metadata": {},
          "execution_count": 1088
        }
      ]
    },
    {
      "cell_type": "code",
      "execution_count": 1089,
      "metadata": {
        "colab": {
          "base_uri": "https://localhost:8080/",
          "height": 492
        },
        "id": "4wuL0WsLJTcZ",
        "outputId": "e63867af-ffa4-4264-bb9d-f476db99066a"
      },
      "outputs": [
        {
          "output_type": "execute_result",
          "data": {
            "text/plain": [
              "App                  0\n",
              "Category             0\n",
              "Rating            1474\n",
              "Reviews              0\n",
              "Size                 0\n",
              "Installs             0\n",
              "Type                 1\n",
              "Price                0\n",
              "Content Rating       1\n",
              "Genres               0\n",
              "Last Updated         0\n",
              "Current Ver          8\n",
              "Android Ver          3\n",
              "dtype: int64"
            ],
            "text/html": [
              "<div>\n",
              "<style scoped>\n",
              "    .dataframe tbody tr th:only-of-type {\n",
              "        vertical-align: middle;\n",
              "    }\n",
              "\n",
              "    .dataframe tbody tr th {\n",
              "        vertical-align: top;\n",
              "    }\n",
              "\n",
              "    .dataframe thead th {\n",
              "        text-align: right;\n",
              "    }\n",
              "</style>\n",
              "<table border=\"1\" class=\"dataframe\">\n",
              "  <thead>\n",
              "    <tr style=\"text-align: right;\">\n",
              "      <th></th>\n",
              "      <th>0</th>\n",
              "    </tr>\n",
              "  </thead>\n",
              "  <tbody>\n",
              "    <tr>\n",
              "      <th>App</th>\n",
              "      <td>0</td>\n",
              "    </tr>\n",
              "    <tr>\n",
              "      <th>Category</th>\n",
              "      <td>0</td>\n",
              "    </tr>\n",
              "    <tr>\n",
              "      <th>Rating</th>\n",
              "      <td>1474</td>\n",
              "    </tr>\n",
              "    <tr>\n",
              "      <th>Reviews</th>\n",
              "      <td>0</td>\n",
              "    </tr>\n",
              "    <tr>\n",
              "      <th>Size</th>\n",
              "      <td>0</td>\n",
              "    </tr>\n",
              "    <tr>\n",
              "      <th>Installs</th>\n",
              "      <td>0</td>\n",
              "    </tr>\n",
              "    <tr>\n",
              "      <th>Type</th>\n",
              "      <td>1</td>\n",
              "    </tr>\n",
              "    <tr>\n",
              "      <th>Price</th>\n",
              "      <td>0</td>\n",
              "    </tr>\n",
              "    <tr>\n",
              "      <th>Content Rating</th>\n",
              "      <td>1</td>\n",
              "    </tr>\n",
              "    <tr>\n",
              "      <th>Genres</th>\n",
              "      <td>0</td>\n",
              "    </tr>\n",
              "    <tr>\n",
              "      <th>Last Updated</th>\n",
              "      <td>0</td>\n",
              "    </tr>\n",
              "    <tr>\n",
              "      <th>Current Ver</th>\n",
              "      <td>8</td>\n",
              "    </tr>\n",
              "    <tr>\n",
              "      <th>Android Ver</th>\n",
              "      <td>3</td>\n",
              "    </tr>\n",
              "  </tbody>\n",
              "</table>\n",
              "</div><br><label><b>dtype:</b> int64</label>"
            ]
          },
          "metadata": {},
          "execution_count": 1089
        }
      ],
      "source": [
        "df.isna().sum()"
      ]
    },
    {
      "cell_type": "markdown",
      "metadata": {
        "id": "pkRqX-VKNIgy"
      },
      "source": [
        "### Fix Rating column"
      ]
    },
    {
      "cell_type": "code",
      "execution_count": 1090,
      "metadata": {
        "id": "P0mKqo77M4ty"
      },
      "outputs": [],
      "source": [
        "import numpy as np\n",
        "df[\"Rating\"] = pd.to_numeric(df[\"Rating\"], errors=\"coerce\")\n",
        "\n",
        "df.loc[(df[\"Rating\"] < 0) | (df[\"Rating\"] > 5), \"Rating\"] = np.nan\n",
        "\n",
        "df[\"Rating\"] = df.groupby(\"Category\")[\"Rating\"].transform(lambda x: x.fillna(x.median()))"
      ]
    },
    {
      "cell_type": "markdown",
      "source": [
        "fixing size"
      ],
      "metadata": {
        "id": "FNIhREcy7my1"
      }
    },
    {
      "cell_type": "code",
      "execution_count": 1091,
      "metadata": {
        "colab": {
          "base_uri": "https://localhost:8080/",
          "height": 241
        },
        "id": "7WG4W17dNtlB",
        "outputId": "c0f68123-d0fa-45d3-86aa-df50e37dee72"
      },
      "outputs": [
        {
          "output_type": "execute_result",
          "data": {
            "text/plain": [
              "0     19M\n",
              "1     14M\n",
              "2    8.7M\n",
              "3     25M\n",
              "4    2.8M\n",
              "Name: Size, dtype: object"
            ],
            "text/html": [
              "<div>\n",
              "<style scoped>\n",
              "    .dataframe tbody tr th:only-of-type {\n",
              "        vertical-align: middle;\n",
              "    }\n",
              "\n",
              "    .dataframe tbody tr th {\n",
              "        vertical-align: top;\n",
              "    }\n",
              "\n",
              "    .dataframe thead th {\n",
              "        text-align: right;\n",
              "    }\n",
              "</style>\n",
              "<table border=\"1\" class=\"dataframe\">\n",
              "  <thead>\n",
              "    <tr style=\"text-align: right;\">\n",
              "      <th></th>\n",
              "      <th>Size</th>\n",
              "    </tr>\n",
              "  </thead>\n",
              "  <tbody>\n",
              "    <tr>\n",
              "      <th>0</th>\n",
              "      <td>19M</td>\n",
              "    </tr>\n",
              "    <tr>\n",
              "      <th>1</th>\n",
              "      <td>14M</td>\n",
              "    </tr>\n",
              "    <tr>\n",
              "      <th>2</th>\n",
              "      <td>8.7M</td>\n",
              "    </tr>\n",
              "    <tr>\n",
              "      <th>3</th>\n",
              "      <td>25M</td>\n",
              "    </tr>\n",
              "    <tr>\n",
              "      <th>4</th>\n",
              "      <td>2.8M</td>\n",
              "    </tr>\n",
              "  </tbody>\n",
              "</table>\n",
              "</div><br><label><b>dtype:</b> object</label>"
            ]
          },
          "metadata": {},
          "execution_count": 1091
        }
      ],
      "source": [
        "df[\"Size\"].head()"
      ]
    },
    {
      "cell_type": "code",
      "source": [
        "df[\"Size\"].str.contains(\"Varies with device\").sum()"
      ],
      "metadata": {
        "colab": {
          "base_uri": "https://localhost:8080/"
        },
        "id": "1WXKAqV3P4nA",
        "outputId": "318f5acc-aaf8-44fa-9edd-f8e1bb8ff1a9"
      },
      "execution_count": 1092,
      "outputs": [
        {
          "output_type": "execute_result",
          "data": {
            "text/plain": [
              "np.int64(1695)"
            ]
          },
          "metadata": {},
          "execution_count": 1092
        }
      ]
    },
    {
      "cell_type": "code",
      "execution_count": 1093,
      "metadata": {
        "colab": {
          "base_uri": "https://localhost:8080/"
        },
        "id": "-1bkj3g3OP4L",
        "outputId": "64e2022c-48d0-404f-a31b-75973c584b8b"
      },
      "outputs": [
        {
          "output_type": "stream",
          "name": "stdout",
          "text": [
            "Kilobytes Deleted 316\n",
            "Megabytes Deleted 8829\n",
            "Giga bytes Deleted 0\n"
          ]
        }
      ],
      "source": [
        "K=0\n",
        "M=0\n",
        "G=0\n",
        "def convert_size(size):\n",
        "    global M,K,G\n",
        "    if pd.isna(size) or size == \"Varies with device\":\n",
        "        return np.nan\n",
        "    size = str(size).upper().strip()\n",
        "    if \"M\" in size:\n",
        "        M+=1\n",
        "        return float(size.replace(\"M\", \"\"))\n",
        "    elif \"K\" in size:\n",
        "        K+=1\n",
        "        return float(size.replace(\"K\", \"\")) / 1024\n",
        "    elif \"G\" in size:\n",
        "        G+=1\n",
        "        return float(size.replace(\"G\", \"\")) * 1024\n",
        "df[\"Size\"] = df[\"Size\"].apply(convert_size)\n",
        "print(f\"Kilobytes Deleted {K}\\nMegabytes Deleted {M}\\nGiga bytes Deleted {G}\")\n",
        "df[\"Size\"] = df.groupby(\"Category\")[\"Size\"].transform(lambda x: x.fillna(x.median()))"
      ]
    },
    {
      "cell_type": "markdown",
      "source": [
        "fixing price"
      ],
      "metadata": {
        "id": "uPWiq6Q87qJD"
      }
    },
    {
      "cell_type": "code",
      "source": [
        "df[\"Price\"].unique()"
      ],
      "metadata": {
        "id": "f-yUIgfK7sRC",
        "colab": {
          "base_uri": "https://localhost:8080/"
        },
        "outputId": "4b7892f6-7405-49c9-c8e0-5a2d342feaa1"
      },
      "execution_count": 1094,
      "outputs": [
        {
          "output_type": "execute_result",
          "data": {
            "text/plain": [
              "array(['0', '$4.99', '$3.99', '$6.99', '$1.49', '$2.99', '$7.99', '$5.99',\n",
              "       '$3.49', '$1.99', '$9.99', '$7.49', '$0.99', '$9.00', '$5.49',\n",
              "       '$10.00', '$24.99', '$11.99', '$79.99', '$16.99', '$14.99',\n",
              "       '$1.00', '$29.99', '$12.99', '$2.49', '$10.99', '$1.50', '$19.99',\n",
              "       '$15.99', '$33.99', '$74.99', '$39.99', '$3.95', '$4.49', '$1.70',\n",
              "       '$8.99', '$2.00', '$3.88', '$25.99', '$399.99', '$17.99',\n",
              "       '$400.00', '$3.02', '$1.76', '$4.84', '$4.77', '$1.61', '$2.50',\n",
              "       '$1.59', '$6.49', '$1.29', '$5.00', '$13.99', '$299.99', '$379.99',\n",
              "       '$37.99', '$18.99', '$389.99', '$19.90', '$8.49', '$1.75',\n",
              "       '$14.00', '$4.85', '$46.99', '$109.99', '$154.99', '$3.08',\n",
              "       '$2.59', '$4.80', '$1.96', '$19.40', '$3.90', '$4.59', '$15.46',\n",
              "       '$3.04', '$4.29', '$2.60', '$3.28', '$4.60', '$28.99', '$2.95',\n",
              "       '$2.90', '$1.97', '$200.00', '$89.99', '$2.56', '$30.99', '$3.61',\n",
              "       '$394.99', '$1.26', 'Everyone', '$1.20', '$1.04'], dtype=object)"
            ]
          },
          "metadata": {},
          "execution_count": 1094
        }
      ]
    },
    {
      "cell_type": "code",
      "source": [
        "df[df[\"Price\"]==\"Everyone\"][\"Type\"]"
      ],
      "metadata": {
        "colab": {
          "base_uri": "https://localhost:8080/",
          "height": 116
        },
        "id": "no_HYYNZ-H5j",
        "outputId": "239a2ced-6ceb-421e-c023-22424b978ab2"
      },
      "execution_count": 1095,
      "outputs": [
        {
          "output_type": "execute_result",
          "data": {
            "text/plain": [
              "10472    0\n",
              "Name: Type, dtype: object"
            ],
            "text/html": [
              "<div>\n",
              "<style scoped>\n",
              "    .dataframe tbody tr th:only-of-type {\n",
              "        vertical-align: middle;\n",
              "    }\n",
              "\n",
              "    .dataframe tbody tr th {\n",
              "        vertical-align: top;\n",
              "    }\n",
              "\n",
              "    .dataframe thead th {\n",
              "        text-align: right;\n",
              "    }\n",
              "</style>\n",
              "<table border=\"1\" class=\"dataframe\">\n",
              "  <thead>\n",
              "    <tr style=\"text-align: right;\">\n",
              "      <th></th>\n",
              "      <th>Type</th>\n",
              "    </tr>\n",
              "  </thead>\n",
              "  <tbody>\n",
              "    <tr>\n",
              "      <th>10472</th>\n",
              "      <td>0</td>\n",
              "    </tr>\n",
              "  </tbody>\n",
              "</table>\n",
              "</div><br><label><b>dtype:</b> object</label>"
            ]
          },
          "metadata": {},
          "execution_count": 1095
        }
      ]
    },
    {
      "cell_type": "code",
      "source": [
        "df.loc[df[\"Price\"]==\"Everyone\",\"Type\"]=\"Free\"\n",
        "\n",
        "df.loc[df[\"Price\"]==\"Everyone\",\"Price\"]= 0"
      ],
      "metadata": {
        "id": "zWSdH1v_9uar"
      },
      "execution_count": 1096,
      "outputs": []
    },
    {
      "cell_type": "code",
      "source": [
        "df[df[\"Price\"]==\"Everyone\"][\"Type\"]"
      ],
      "metadata": {
        "colab": {
          "base_uri": "https://localhost:8080/",
          "height": 84
        },
        "id": "ojr8xCYT-Bfr",
        "outputId": "7cd48303-5982-4181-9e6e-33a3bf6eb4e2"
      },
      "execution_count": 1097,
      "outputs": [
        {
          "output_type": "execute_result",
          "data": {
            "text/plain": [
              "Series([], Name: Type, dtype: object)"
            ],
            "text/html": [
              "<div>\n",
              "<style scoped>\n",
              "    .dataframe tbody tr th:only-of-type {\n",
              "        vertical-align: middle;\n",
              "    }\n",
              "\n",
              "    .dataframe tbody tr th {\n",
              "        vertical-align: top;\n",
              "    }\n",
              "\n",
              "    .dataframe thead th {\n",
              "        text-align: right;\n",
              "    }\n",
              "</style>\n",
              "<table border=\"1\" class=\"dataframe\">\n",
              "  <thead>\n",
              "    <tr style=\"text-align: right;\">\n",
              "      <th></th>\n",
              "      <th>Type</th>\n",
              "    </tr>\n",
              "  </thead>\n",
              "  <tbody>\n",
              "  </tbody>\n",
              "</table>\n",
              "</div><br><label><b>dtype:</b> object</label>"
            ]
          },
          "metadata": {},
          "execution_count": 1097
        }
      ]
    },
    {
      "cell_type": "code",
      "source": [
        "df[\"Type\"].fillna(\"Free\", inplace=True)"
      ],
      "metadata": {
        "colab": {
          "base_uri": "https://localhost:8080/"
        },
        "id": "RcRpi5QKF-ZM",
        "outputId": "0c598a1c-0dba-493c-b309-9dc15b462aeb"
      },
      "execution_count": 1098,
      "outputs": [
        {
          "output_type": "stream",
          "name": "stderr",
          "text": [
            "/tmp/ipython-input-635867199.py:1: FutureWarning: A value is trying to be set on a copy of a DataFrame or Series through chained assignment using an inplace method.\n",
            "The behavior will change in pandas 3.0. This inplace method will never work because the intermediate object on which we are setting values always behaves as a copy.\n",
            "\n",
            "For example, when doing 'df[col].method(value, inplace=True)', try using 'df.method({col: value}, inplace=True)' or df[col] = df[col].method(value) instead, to perform the operation inplace on the original object.\n",
            "\n",
            "\n",
            "  df[\"Type\"].fillna(\"Free\", inplace=True)\n"
          ]
        }
      ]
    },
    {
      "cell_type": "code",
      "source": [
        "\n",
        "df[\"Price\"]=df[\"Price\"].str.replace(\"$\",\"\")\n",
        "df[\"Price\"]=df[\"Price\"].astype(float)"
      ],
      "metadata": {
        "id": "_87jjg8X7tuq"
      },
      "execution_count": 1099,
      "outputs": []
    },
    {
      "cell_type": "markdown",
      "source": [
        "category fixing"
      ],
      "metadata": {
        "id": "2ZxPYiIz-mKD"
      }
    },
    {
      "cell_type": "code",
      "source": [
        "df[\"Category\"].unique()"
      ],
      "metadata": {
        "colab": {
          "base_uri": "https://localhost:8080/"
        },
        "id": "ofL_ZOil-gid",
        "outputId": "ee52a7c4-4575-4fd2-faff-a6e83835d63a"
      },
      "execution_count": 1100,
      "outputs": [
        {
          "output_type": "execute_result",
          "data": {
            "text/plain": [
              "array(['ART_AND_DESIGN', 'AUTO_AND_VEHICLES', 'BEAUTY',\n",
              "       'BOOKS_AND_REFERENCE', 'BUSINESS', 'COMICS', 'COMMUNICATION',\n",
              "       'DATING', 'EDUCATION', 'ENTERTAINMENT', 'EVENTS', 'FINANCE',\n",
              "       'FOOD_AND_DRINK', 'HEALTH_AND_FITNESS', 'HOUSE_AND_HOME',\n",
              "       'LIBRARIES_AND_DEMO', 'LIFESTYLE', 'GAME', 'FAMILY', 'MEDICAL',\n",
              "       'SOCIAL', 'SHOPPING', 'PHOTOGRAPHY', 'SPORTS', 'TRAVEL_AND_LOCAL',\n",
              "       'TOOLS', 'PERSONALIZATION', 'PRODUCTIVITY', 'PARENTING', 'WEATHER',\n",
              "       'VIDEO_PLAYERS', 'NEWS_AND_MAGAZINES', 'MAPS_AND_NAVIGATION',\n",
              "       '1.9'], dtype=object)"
            ]
          },
          "metadata": {},
          "execution_count": 1100
        }
      ]
    },
    {
      "cell_type": "code",
      "source": [
        "df=df[df[\"Category\"]!='1.9']\n",
        "df[\"Category\"].unique()"
      ],
      "metadata": {
        "colab": {
          "base_uri": "https://localhost:8080/"
        },
        "id": "6my50k0X-vSb",
        "outputId": "5fb051e3-6069-4f8e-b6a6-04525c2142ee"
      },
      "execution_count": 1101,
      "outputs": [
        {
          "output_type": "execute_result",
          "data": {
            "text/plain": [
              "array(['ART_AND_DESIGN', 'AUTO_AND_VEHICLES', 'BEAUTY',\n",
              "       'BOOKS_AND_REFERENCE', 'BUSINESS', 'COMICS', 'COMMUNICATION',\n",
              "       'DATING', 'EDUCATION', 'ENTERTAINMENT', 'EVENTS', 'FINANCE',\n",
              "       'FOOD_AND_DRINK', 'HEALTH_AND_FITNESS', 'HOUSE_AND_HOME',\n",
              "       'LIBRARIES_AND_DEMO', 'LIFESTYLE', 'GAME', 'FAMILY', 'MEDICAL',\n",
              "       'SOCIAL', 'SHOPPING', 'PHOTOGRAPHY', 'SPORTS', 'TRAVEL_AND_LOCAL',\n",
              "       'TOOLS', 'PERSONALIZATION', 'PRODUCTIVITY', 'PARENTING', 'WEATHER',\n",
              "       'VIDEO_PLAYERS', 'NEWS_AND_MAGAZINES', 'MAPS_AND_NAVIGATION'],\n",
              "      dtype=object)"
            ]
          },
          "metadata": {},
          "execution_count": 1101
        }
      ]
    },
    {
      "cell_type": "code",
      "source": [
        "import pandas as pd\n",
        "import numpy as np\n",
        "\n",
        "def cleaning_android_version(v):\n",
        "    if pd.isna(v) or \"Varies\" in str(v):\n",
        "        return np.nan\n",
        "    v = str(v).split(\" \")[0]\n",
        "    return v.replace(\"W\", \"\")\n",
        "\n",
        "df[\"Android Ver\"] = df[\"Android Ver\"].apply(cleaning_android_version)\n",
        "print(\"Missing Android Versions before fill:\", df[\"Android Ver\"].isna().sum())\n",
        "\n",
        "modes_per_category = df.groupby('Category')['Android Ver'].agg(lambda x: x.mode()[0] if not x.mode().empty else 'Unknown')\n",
        "print(\"\\nMode used for each Category:\")\n",
        "print(modes_per_category)\n",
        "\n",
        "\n",
        "df['Android Ver'] = df.groupby('Category')['Android Ver'].transform(\n",
        "    lambda x: x.fillna(x.mode()[0] if not x.mode().empty else 'Unknown')\n",
        ")\n",
        "\n",
        "print(\"\\nMissing Android Versions after fill:\", df[\"Android Ver\"].isna().sum())\n",
        "print(\"\\nUnique Android Versions after fill:\")\n",
        "print(df[\"Android Ver\"].unique())\n"
      ],
      "metadata": {
        "colab": {
          "base_uri": "https://localhost:8080/"
        },
        "id": "qtA_4fLY_MF8",
        "outputId": "ffb769ea-d776-48b5-f841-e437f0ee6d57"
      },
      "execution_count": 1102,
      "outputs": [
        {
          "output_type": "stream",
          "name": "stdout",
          "text": [
            "Missing Android Versions before fill: 1364\n",
            "\n",
            "Mode used for each Category:\n",
            "Category\n",
            "ART_AND_DESIGN           4.1\n",
            "AUTO_AND_VEHICLES        4.0\n",
            "BEAUTY                 4.0.3\n",
            "BOOKS_AND_REFERENCE      4.0\n",
            "BUSINESS                 4.1\n",
            "COMICS                 4.0.3\n",
            "COMMUNICATION            4.1\n",
            "DATING                 4.0.3\n",
            "EDUCATION                4.1\n",
            "ENTERTAINMENT            4.4\n",
            "EVENTS                   4.1\n",
            "FAMILY                   4.1\n",
            "FINANCE                  4.1\n",
            "FOOD_AND_DRINK           4.1\n",
            "GAME                     4.1\n",
            "HEALTH_AND_FITNESS       4.1\n",
            "HOUSE_AND_HOME         4.0.3\n",
            "LIBRARIES_AND_DEMO       1.6\n",
            "LIFESTYLE                4.1\n",
            "MAPS_AND_NAVIGATION      4.1\n",
            "MEDICAL                4.0.3\n",
            "NEWS_AND_MAGAZINES       4.1\n",
            "PARENTING              4.0.3\n",
            "PERSONALIZATION          4.1\n",
            "PHOTOGRAPHY              4.0\n",
            "PRODUCTIVITY             4.1\n",
            "SHOPPING                 4.1\n",
            "SOCIAL                   4.1\n",
            "SPORTS                   4.1\n",
            "TOOLS                    4.1\n",
            "TRAVEL_AND_LOCAL         4.1\n",
            "VIDEO_PLAYERS            4.1\n",
            "WEATHER                  4.1\n",
            "Name: Android Ver, dtype: object\n",
            "\n",
            "Missing Android Versions after fill: 0\n",
            "\n",
            "Unique Android Versions after fill:\n",
            "['4.0.3' '4.2' '4.4' '2.3' '3.0' '4.1' '4.0' '2.3.3' '2.2' '5.0' '6.0'\n",
            " '1.6' '1.5' '2.1' '7.0' '5.1' '4.3' '2.0' '3.2' '7.1' '8.0' '3.1' '2.0.1'\n",
            " '1.0']\n"
          ]
        }
      ]
    },
    {
      "cell_type": "markdown",
      "source": [
        "current ver"
      ],
      "metadata": {
        "id": "Kzhe_7KPAfuX"
      }
    },
    {
      "cell_type": "code",
      "source": [
        "\n",
        "def cleaning_current_version(v):\n",
        "    if pd.isna(v) or \"Varies\" in str(v):\n",
        "        return np.nan\n",
        "    v = str(v).split(\" \")[0]\n",
        "    return v\n",
        "\n",
        "\n",
        "df[\"Current Ver\"] = df[\"Current Ver\"].apply(cleaning_current_version)\n",
        "print(\"Missing Current Versions before fill:\", df[\"Current Ver\"].isna().sum())\n",
        "\n",
        "\n",
        "modes_per_category = df.groupby('Category')['Current Ver'].agg(lambda x: x.mode()[0] if not x.mode().empty else 'Unknown')\n",
        "print(\"\\nMode used for each Category:\")\n",
        "print(modes_per_category)\n",
        "\n",
        "\n",
        "df['Current Ver'] = df.groupby('Category')['Current Ver'].transform(\n",
        "    lambda x: x.fillna(x.mode()[0] if not x.mode().empty else 'Unknown')\n",
        ")\n",
        "\n",
        "print(\"\\nMissing Current Versions after fill:\", df[\"Current Ver\"].isna().sum())\n",
        "print(\"\\nUnique Current Versions after cleaning:\")\n",
        "print(df[\"Current Ver\"].unique())\n"
      ],
      "metadata": {
        "colab": {
          "base_uri": "https://localhost:8080/"
        },
        "id": "ELoB2WmYAhUl",
        "outputId": "d3933cdb-1d0b-42f8-f593-1f67476f8c6f"
      },
      "execution_count": 1103,
      "outputs": [
        {
          "output_type": "stream",
          "name": "stdout",
          "text": [
            "Missing Current Versions before fill: 1467\n",
            "\n",
            "Mode used for each Category:\n",
            "Category\n",
            "ART_AND_DESIGN             1.0\n",
            "AUTO_AND_VEHICLES          1.0\n",
            "BEAUTY                     1.0\n",
            "BOOKS_AND_REFERENCE        1.0\n",
            "BUSINESS                   1.0\n",
            "COMICS                     1.0\n",
            "COMMUNICATION              1.0\n",
            "DATING                     1.0\n",
            "EDUCATION               20.7.2\n",
            "ENTERTAINMENT          11.45.0\n",
            "EVENTS                     1.0\n",
            "FAMILY                     1.0\n",
            "FINANCE                    1.0\n",
            "FOOD_AND_DRINK             1.0\n",
            "GAME                       1.0\n",
            "HEALTH_AND_FITNESS       4.2.2\n",
            "HOUSE_AND_HOME             1.0\n",
            "LIBRARIES_AND_DEMO       2.3.2\n",
            "LIFESTYLE                  1.0\n",
            "MAPS_AND_NAVIGATION        1.3\n",
            "MEDICAL                    1.0\n",
            "NEWS_AND_MAGAZINES         1.0\n",
            "PARENTING                  1.2\n",
            "PERSONALIZATION            1.0\n",
            "PHOTOGRAPHY                1.0\n",
            "PRODUCTIVITY               1.0\n",
            "SHOPPING                   1.0\n",
            "SOCIAL                     1.0\n",
            "SPORTS                     1.0\n",
            "TOOLS                      1.0\n",
            "TRAVEL_AND_LOCAL           1.0\n",
            "VIDEO_PLAYERS              1.0\n",
            "WEATHER                    1.0\n",
            "Name: Current Ver, dtype: object\n",
            "\n",
            "Missing Current Versions after fill: 0\n",
            "\n",
            "Unique Current Versions after cleaning:\n",
            "['1.0.0' '2.0.0' '1.2.4' ... '1.0.612928' '0.3.4' '2.0.148.0']\n"
          ]
        }
      ]
    },
    {
      "cell_type": "markdown",
      "source": [
        "Genre\n"
      ],
      "metadata": {
        "id": "vYhXoMuyBdSw"
      }
    },
    {
      "cell_type": "code",
      "source": [
        "df[\"Genres\"].unique()"
      ],
      "metadata": {
        "colab": {
          "base_uri": "https://localhost:8080/"
        },
        "id": "1IQev9oRCBcR",
        "outputId": "0205dbf3-01cc-417f-9729-91709cf3fc46"
      },
      "execution_count": 1104,
      "outputs": [
        {
          "output_type": "execute_result",
          "data": {
            "text/plain": [
              "array(['Art & Design', 'Art & Design;Pretend Play',\n",
              "       'Art & Design;Creativity', 'Art & Design;Action & Adventure',\n",
              "       'Auto & Vehicles', 'Beauty', 'Books & Reference', 'Business',\n",
              "       'Comics', 'Comics;Creativity', 'Communication', 'Dating',\n",
              "       'Education;Education', 'Education', 'Education;Creativity',\n",
              "       'Education;Music & Video', 'Education;Action & Adventure',\n",
              "       'Education;Pretend Play', 'Education;Brain Games', 'Entertainment',\n",
              "       'Entertainment;Music & Video', 'Entertainment;Brain Games',\n",
              "       'Entertainment;Creativity', 'Events', 'Finance', 'Food & Drink',\n",
              "       'Health & Fitness', 'House & Home', 'Libraries & Demo',\n",
              "       'Lifestyle', 'Lifestyle;Pretend Play',\n",
              "       'Adventure;Action & Adventure', 'Arcade', 'Casual', 'Card',\n",
              "       'Casual;Pretend Play', 'Action', 'Strategy', 'Puzzle', 'Sports',\n",
              "       'Music', 'Word', 'Racing', 'Casual;Creativity',\n",
              "       'Casual;Action & Adventure', 'Simulation', 'Adventure', 'Board',\n",
              "       'Trivia', 'Role Playing', 'Simulation;Education',\n",
              "       'Action;Action & Adventure', 'Casual;Brain Games',\n",
              "       'Simulation;Action & Adventure', 'Educational;Creativity',\n",
              "       'Puzzle;Brain Games', 'Educational;Education', 'Card;Brain Games',\n",
              "       'Educational;Brain Games', 'Educational;Pretend Play',\n",
              "       'Entertainment;Education', 'Casual;Education',\n",
              "       'Music;Music & Video', 'Racing;Action & Adventure',\n",
              "       'Arcade;Pretend Play', 'Role Playing;Action & Adventure',\n",
              "       'Simulation;Pretend Play', 'Puzzle;Creativity',\n",
              "       'Sports;Action & Adventure', 'Educational;Action & Adventure',\n",
              "       'Arcade;Action & Adventure', 'Entertainment;Action & Adventure',\n",
              "       'Puzzle;Action & Adventure', 'Strategy;Action & Adventure',\n",
              "       'Music & Audio;Music & Video', 'Health & Fitness;Education',\n",
              "       'Adventure;Education', 'Board;Brain Games',\n",
              "       'Board;Action & Adventure', 'Board;Pretend Play',\n",
              "       'Casual;Music & Video', 'Role Playing;Pretend Play',\n",
              "       'Entertainment;Pretend Play', 'Video Players & Editors;Creativity',\n",
              "       'Card;Action & Adventure', 'Medical', 'Social', 'Shopping',\n",
              "       'Photography', 'Travel & Local',\n",
              "       'Travel & Local;Action & Adventure', 'Tools', 'Tools;Education',\n",
              "       'Personalization', 'Productivity', 'Parenting',\n",
              "       'Parenting;Music & Video', 'Parenting;Education',\n",
              "       'Parenting;Brain Games', 'Weather', 'Video Players & Editors',\n",
              "       'Video Players & Editors;Music & Video', 'News & Magazines',\n",
              "       'Maps & Navigation', 'Health & Fitness;Action & Adventure',\n",
              "       'Educational', 'Casino', 'Adventure;Brain Games',\n",
              "       'Trivia;Education', 'Lifestyle;Education',\n",
              "       'Books & Reference;Creativity', 'Books & Reference;Education',\n",
              "       'Puzzle;Education', 'Role Playing;Education',\n",
              "       'Role Playing;Brain Games', 'Strategy;Education',\n",
              "       'Racing;Pretend Play', 'Communication;Creativity',\n",
              "       'Strategy;Creativity'], dtype=object)"
            ]
          },
          "metadata": {},
          "execution_count": 1104
        }
      ]
    },
    {
      "cell_type": "code",
      "source": [
        "df[\"Genres\"] = df[\"Genres\"].str.split(\";\").str[0]"
      ],
      "metadata": {
        "id": "YjqbbktsBco3"
      },
      "execution_count": 1105,
      "outputs": []
    },
    {
      "cell_type": "code",
      "source": [
        "df[\"Genres\"].unique()"
      ],
      "metadata": {
        "colab": {
          "base_uri": "https://localhost:8080/"
        },
        "id": "h4vErLQZCE3i",
        "outputId": "409eac6c-5802-4330-9749-b50466ee71f3"
      },
      "execution_count": 1106,
      "outputs": [
        {
          "output_type": "execute_result",
          "data": {
            "text/plain": [
              "array(['Art & Design', 'Auto & Vehicles', 'Beauty', 'Books & Reference',\n",
              "       'Business', 'Comics', 'Communication', 'Dating', 'Education',\n",
              "       'Entertainment', 'Events', 'Finance', 'Food & Drink',\n",
              "       'Health & Fitness', 'House & Home', 'Libraries & Demo',\n",
              "       'Lifestyle', 'Adventure', 'Arcade', 'Casual', 'Card', 'Action',\n",
              "       'Strategy', 'Puzzle', 'Sports', 'Music', 'Word', 'Racing',\n",
              "       'Simulation', 'Board', 'Trivia', 'Role Playing', 'Educational',\n",
              "       'Music & Audio', 'Video Players & Editors', 'Medical', 'Social',\n",
              "       'Shopping', 'Photography', 'Travel & Local', 'Tools',\n",
              "       'Personalization', 'Productivity', 'Parenting', 'Weather',\n",
              "       'News & Magazines', 'Maps & Navigation', 'Casino'], dtype=object)"
            ]
          },
          "metadata": {},
          "execution_count": 1106
        }
      ]
    },
    {
      "cell_type": "markdown",
      "source": [
        "last updated"
      ],
      "metadata": {
        "id": "x1Pc8vcECJow"
      }
    },
    {
      "cell_type": "code",
      "source": [
        "\n",
        "df[\"Last Updated\"]=pd.to_datetime(df[\"Last Updated\"],errors='coerce')"
      ],
      "metadata": {
        "id": "At0JptmDCJXH"
      },
      "execution_count": 1107,
      "outputs": []
    },
    {
      "cell_type": "code",
      "source": [
        "df[\"Last Updated\"].head(5)"
      ],
      "metadata": {
        "colab": {
          "base_uri": "https://localhost:8080/",
          "height": 241
        },
        "id": "Y5WewCMsCbLo",
        "outputId": "eff157a8-dd04-4d76-b180-099f60175842"
      },
      "execution_count": 1108,
      "outputs": [
        {
          "output_type": "execute_result",
          "data": {
            "text/plain": [
              "0   2018-01-07\n",
              "1   2018-01-15\n",
              "2   2018-08-01\n",
              "3   2018-06-08\n",
              "4   2018-06-20\n",
              "Name: Last Updated, dtype: datetime64[ns]"
            ],
            "text/html": [
              "<div>\n",
              "<style scoped>\n",
              "    .dataframe tbody tr th:only-of-type {\n",
              "        vertical-align: middle;\n",
              "    }\n",
              "\n",
              "    .dataframe tbody tr th {\n",
              "        vertical-align: top;\n",
              "    }\n",
              "\n",
              "    .dataframe thead th {\n",
              "        text-align: right;\n",
              "    }\n",
              "</style>\n",
              "<table border=\"1\" class=\"dataframe\">\n",
              "  <thead>\n",
              "    <tr style=\"text-align: right;\">\n",
              "      <th></th>\n",
              "      <th>Last Updated</th>\n",
              "    </tr>\n",
              "  </thead>\n",
              "  <tbody>\n",
              "    <tr>\n",
              "      <th>0</th>\n",
              "      <td>2018-01-07</td>\n",
              "    </tr>\n",
              "    <tr>\n",
              "      <th>1</th>\n",
              "      <td>2018-01-15</td>\n",
              "    </tr>\n",
              "    <tr>\n",
              "      <th>2</th>\n",
              "      <td>2018-08-01</td>\n",
              "    </tr>\n",
              "    <tr>\n",
              "      <th>3</th>\n",
              "      <td>2018-06-08</td>\n",
              "    </tr>\n",
              "    <tr>\n",
              "      <th>4</th>\n",
              "      <td>2018-06-20</td>\n",
              "    </tr>\n",
              "  </tbody>\n",
              "</table>\n",
              "</div><br><label><b>dtype:</b> datetime64[ns]</label>"
            ]
          },
          "metadata": {},
          "execution_count": 1108
        }
      ]
    },
    {
      "cell_type": "markdown",
      "source": [
        "Content Rating"
      ],
      "metadata": {
        "id": "veWw1dPaCgen"
      }
    },
    {
      "cell_type": "code",
      "source": [
        "df[\"Content Rating\"].unique()"
      ],
      "metadata": {
        "colab": {
          "base_uri": "https://localhost:8080/"
        },
        "id": "RIXY1sxhCgJg",
        "outputId": "b13c67e9-c4ba-41c2-ea91-bb27915dec4b"
      },
      "execution_count": 1109,
      "outputs": [
        {
          "output_type": "execute_result",
          "data": {
            "text/plain": [
              "array(['Everyone', 'Teen', 'Everyone 10+', 'Mature 17+',\n",
              "       'Adults only 18+', 'Unrated'], dtype=object)"
            ]
          },
          "metadata": {},
          "execution_count": 1109
        }
      ]
    },
    {
      "cell_type": "code",
      "source": [
        "df[\"Content Rating\"]=df[\"Content Rating\"].str.split(\" \").str[0]"
      ],
      "metadata": {
        "id": "bDthYtH_CoTQ"
      },
      "execution_count": 1110,
      "outputs": []
    },
    {
      "cell_type": "code",
      "source": [
        "df[\"Content Rating\"].unique()"
      ],
      "metadata": {
        "colab": {
          "base_uri": "https://localhost:8080/"
        },
        "id": "TFuzHB9gCx6w",
        "outputId": "a03dcd86-c15b-4e8b-e081-94822882f194"
      },
      "execution_count": 1111,
      "outputs": [
        {
          "output_type": "execute_result",
          "data": {
            "text/plain": [
              "array(['Everyone', 'Teen', 'Mature', 'Adults', 'Unrated'], dtype=object)"
            ]
          },
          "metadata": {},
          "execution_count": 1111
        }
      ]
    },
    {
      "cell_type": "markdown",
      "source": [
        "installs and review"
      ],
      "metadata": {
        "id": "l5EJWmxhDG3h"
      }
    },
    {
      "cell_type": "code",
      "source": [
        "df[\"Reviews\"] = df[\"Reviews\"].astype(int)\n",
        "df[\"Installs\"] = (\n",
        "    df[\"Installs\"]\n",
        "    .str.replace(\"[+,]\", \"\", regex=True)\n",
        "    .astype(int)\n",
        ")\n",
        "df[\"Installs\"].fillna(df[\"Installs\"].median(), inplace=True)\n",
        "df[\"Reviews\"].fillna(df[\"Reviews\"].median(), inplace=True)"
      ],
      "metadata": {
        "colab": {
          "base_uri": "https://localhost:8080/"
        },
        "id": "aJVLmKllDGkl",
        "outputId": "78c88d9a-1b1a-4ef4-a033-23d3015c11a2"
      },
      "execution_count": 1112,
      "outputs": [
        {
          "output_type": "stream",
          "name": "stderr",
          "text": [
            "/tmp/ipython-input-1361559942.py:7: FutureWarning: A value is trying to be set on a copy of a DataFrame or Series through chained assignment using an inplace method.\n",
            "The behavior will change in pandas 3.0. This inplace method will never work because the intermediate object on which we are setting values always behaves as a copy.\n",
            "\n",
            "For example, when doing 'df[col].method(value, inplace=True)', try using 'df.method({col: value}, inplace=True)' or df[col] = df[col].method(value) instead, to perform the operation inplace on the original object.\n",
            "\n",
            "\n",
            "  df[\"Installs\"].fillna(df[\"Installs\"].median(), inplace=True)\n",
            "/tmp/ipython-input-1361559942.py:8: FutureWarning: A value is trying to be set on a copy of a DataFrame or Series through chained assignment using an inplace method.\n",
            "The behavior will change in pandas 3.0. This inplace method will never work because the intermediate object on which we are setting values always behaves as a copy.\n",
            "\n",
            "For example, when doing 'df[col].method(value, inplace=True)', try using 'df.method({col: value}, inplace=True)' or df[col] = df[col].method(value) instead, to perform the operation inplace on the original object.\n",
            "\n",
            "\n",
            "  df[\"Reviews\"].fillna(df[\"Reviews\"].median(), inplace=True)\n"
          ]
        }
      ]
    },
    {
      "cell_type": "code",
      "source": [
        "df.isna().sum()"
      ],
      "metadata": {
        "colab": {
          "base_uri": "https://localhost:8080/",
          "height": 492
        },
        "id": "0tB4JlvLDjY6",
        "outputId": "d59703b4-17cd-497f-f942-f546e76514a7"
      },
      "execution_count": 1113,
      "outputs": [
        {
          "output_type": "execute_result",
          "data": {
            "text/plain": [
              "App               0\n",
              "Category          0\n",
              "Rating            0\n",
              "Reviews           0\n",
              "Size              0\n",
              "Installs          0\n",
              "Type              0\n",
              "Price             0\n",
              "Content Rating    0\n",
              "Genres            0\n",
              "Last Updated      0\n",
              "Current Ver       0\n",
              "Android Ver       0\n",
              "dtype: int64"
            ],
            "text/html": [
              "<div>\n",
              "<style scoped>\n",
              "    .dataframe tbody tr th:only-of-type {\n",
              "        vertical-align: middle;\n",
              "    }\n",
              "\n",
              "    .dataframe tbody tr th {\n",
              "        vertical-align: top;\n",
              "    }\n",
              "\n",
              "    .dataframe thead th {\n",
              "        text-align: right;\n",
              "    }\n",
              "</style>\n",
              "<table border=\"1\" class=\"dataframe\">\n",
              "  <thead>\n",
              "    <tr style=\"text-align: right;\">\n",
              "      <th></th>\n",
              "      <th>0</th>\n",
              "    </tr>\n",
              "  </thead>\n",
              "  <tbody>\n",
              "    <tr>\n",
              "      <th>App</th>\n",
              "      <td>0</td>\n",
              "    </tr>\n",
              "    <tr>\n",
              "      <th>Category</th>\n",
              "      <td>0</td>\n",
              "    </tr>\n",
              "    <tr>\n",
              "      <th>Rating</th>\n",
              "      <td>0</td>\n",
              "    </tr>\n",
              "    <tr>\n",
              "      <th>Reviews</th>\n",
              "      <td>0</td>\n",
              "    </tr>\n",
              "    <tr>\n",
              "      <th>Size</th>\n",
              "      <td>0</td>\n",
              "    </tr>\n",
              "    <tr>\n",
              "      <th>Installs</th>\n",
              "      <td>0</td>\n",
              "    </tr>\n",
              "    <tr>\n",
              "      <th>Type</th>\n",
              "      <td>0</td>\n",
              "    </tr>\n",
              "    <tr>\n",
              "      <th>Price</th>\n",
              "      <td>0</td>\n",
              "    </tr>\n",
              "    <tr>\n",
              "      <th>Content Rating</th>\n",
              "      <td>0</td>\n",
              "    </tr>\n",
              "    <tr>\n",
              "      <th>Genres</th>\n",
              "      <td>0</td>\n",
              "    </tr>\n",
              "    <tr>\n",
              "      <th>Last Updated</th>\n",
              "      <td>0</td>\n",
              "    </tr>\n",
              "    <tr>\n",
              "      <th>Current Ver</th>\n",
              "      <td>0</td>\n",
              "    </tr>\n",
              "    <tr>\n",
              "      <th>Android Ver</th>\n",
              "      <td>0</td>\n",
              "    </tr>\n",
              "  </tbody>\n",
              "</table>\n",
              "</div><br><label><b>dtype:</b> int64</label>"
            ]
          },
          "metadata": {},
          "execution_count": 1113
        }
      ]
    },
    {
      "cell_type": "markdown",
      "source": [
        "handling outliers"
      ],
      "metadata": {
        "id": "vwxHCgWEDemp"
      }
    },
    {
      "cell_type": "code",
      "source": [
        "import matplotlib.pyplot as plt\n",
        "\n",
        "num_cols = [\"Reviews\", \"Installs\"]\n",
        "\n",
        "for col in num_cols:\n",
        "    fig, axes = plt.subplots(1, 2, figsize=(10, 5))\n",
        "    axes[0].boxplot(df[col], vert=False)\n",
        "    axes[0].set_title(f\"{col} - Before IQR Cleaning\")\n",
        "\n",
        "    Q1 = df[col].quantile(0.25)\n",
        "    Q3 = df[col].quantile(0.75)\n",
        "    IQR = Q3 - Q1\n",
        "    lower_bound = max(0, Q1 - 1.5 * IQR)\n",
        "    upper_bound = Q3 + 1.5 * IQR\n",
        "\n",
        "    print(f\"col {col} ,lower {lower_bound:.2f}, upper {upper_bound:.2f}\")\n",
        "\n",
        "    df = df[(df[col] >= lower_bound) & (df[col] <= upper_bound)]\n",
        "\n",
        "    axes[1].boxplot(df[col], vert=False)\n",
        "    axes[1].set_title(f\"{col} - After IQR Cleaning\")\n",
        "    plt.show()\n"
      ],
      "metadata": {
        "colab": {
          "base_uri": "https://localhost:8080/",
          "height": 990
        },
        "id": "iCEjRyC6D0sR",
        "outputId": "4d34ebbd-0ab5-4e8f-f306-9b9a869cac68"
      },
      "execution_count": 1114,
      "outputs": [
        {
          "output_type": "stream",
          "name": "stdout",
          "text": [
            "col Reviews ,lower 0.00, upper 136881.75\n"
          ]
        },
        {
          "output_type": "display_data",
          "data": {
            "text/plain": [
              "<Figure size 1000x500 with 2 Axes>"
            ],
            "image/png": "[encoded data removed]"
          },
          "metadata": {}
        },
        {
          "output_type": "stream",
          "name": "stdout",
          "text": [
            "col Installs ,lower 0.00, upper 2498500.00\n"
          ]
        },
        {
          "output_type": "display_data",
          "data": {
            "text/plain": [
              "<Figure size 1000x500 with 2 Axes>"
            ],
            "image/png": "[encoded data removed]"
          },
          "metadata": {}
        }
      ]
    },
    {
      "cell_type": "markdown",
      "source": [
        "What is the most expensive app on the Play Store?\n"
      ],
      "metadata": {
        "id": "qt3MiT7WELtJ"
      }
    },
    {
      "cell_type": "code",
      "source": [
        "\n",
        "most_expensive = df.sort_values(by=\"Price\", ascending=False).head(5)\n",
        "print(\"Most Expensive App:\\n\", most_expensive[[\"App\",\"Price\"]], \"\\n\")\n",
        "print(\"Top 5 Most Expensive Perfectly Rated Apps:\\n\")\n",
        "print(most_expensive[[\"App\", \"Category\", \"Rating\", \"Price\"]])\n",
        "sns.barplot(data=most_expensive, x=\"App\", y=\"Price\", palette=\"crest\")\n",
        "plt.title(\"Top 5 Most Expensive 5 Rated Apps\", fontsize=14)\n",
        "plt.ylabel(\"Price (USD)\")\n",
        "plt.xlabel(\"Application Name\")\n",
        "plt.xticks(rotation=30, ha=\"right\")\n",
        "plt.tight_layout()\n",
        "plt.show()"
      ],
      "metadata": {
        "colab": {
          "base_uri": "https://localhost:8080/",
          "height": 1000
        },
        "id": "6IPIE2yAEa9y",
        "outputId": "52a26fe4-13aa-4259-ce23-c0e96f696691"
      },
      "execution_count": 1115,
      "outputs": [
        {
          "output_type": "stream",
          "name": "stdout",
          "text": [
            "Most Expensive App:\n",
            "                                     App   Price\n",
            "4367           I'm Rich - Trump Edition  400.00\n",
            "9934  I'm Rich/Eu sou Rico/أنا غني/我很有錢  399.99\n",
            "5351                          I am rich  399.99\n",
            "5354                     I am Rich Plus  399.99\n",
            "5356                  I Am Rich Premium  399.99 \n",
            "\n",
            "Top 5 Most Expensive Perfectly Rated Apps:\n",
            "\n",
            "                                    App   Category  Rating   Price\n",
            "4367           I'm Rich - Trump Edition  LIFESTYLE     3.6  400.00\n",
            "9934  I'm Rich/Eu sou Rico/أنا غني/我很有錢  LIFESTYLE     4.2  399.99\n",
            "5351                          I am rich  LIFESTYLE     3.8  399.99\n",
            "5354                     I am Rich Plus     FAMILY     4.0  399.99\n",
            "5356                  I Am Rich Premium    FINANCE     4.1  399.99\n"
          ]
        },
        {
          "output_type": "stream",
          "name": "stderr",
          "text": [
            "/tmp/ipython-input-2045309368.py:5: FutureWarning: \n",
            "\n",
            "Passing `palette` without assigning `hue` is deprecated and will be removed in v0.14.0. Assign the `x` variable to `hue` and set `legend=False` for the same effect.\n",
            "\n",
            "  sns.barplot(data=most_expensive, x=\"App\", y=\"Price\", palette=\"crest\")\n",
            "/tmp/ipython-input-2045309368.py:10: UserWarning: Glyph 25105 (\\N{CJK UNIFIED IDEOGRAPH-6211}) missing from font(s) DejaVu Sans.\n",
            "  plt.tight_layout()\n",
            "/tmp/ipython-input-2045309368.py:10: UserWarning: Glyph 24456 (\\N{CJK UNIFIED IDEOGRAPH-5F88}) missing from font(s) DejaVu Sans.\n",
            "  plt.tight_layout()\n",
            "/tmp/ipython-input-2045309368.py:10: UserWarning: Glyph 26377 (\\N{CJK UNIFIED IDEOGRAPH-6709}) missing from font(s) DejaVu Sans.\n",
            "  plt.tight_layout()\n",
            "/tmp/ipython-input-2045309368.py:10: UserWarning: Glyph 37666 (\\N{CJK UNIFIED IDEOGRAPH-9322}) missing from font(s) DejaVu Sans.\n",
            "  plt.tight_layout()\n",
            "/usr/local/lib/python3.12/dist-packages/IPython/core/pylabtools.py:151: UserWarning: Glyph 25105 (\\N{CJK UNIFIED IDEOGRAPH-6211}) missing from font(s) DejaVu Sans.\n",
            "  fig.canvas.print_figure(bytes_io, **kw)\n",
            "/usr/local/lib/python3.12/dist-packages/IPython/core/pylabtools.py:151: UserWarning: Glyph 24456 (\\N{CJK UNIFIED IDEOGRAPH-5F88}) missing from font(s) DejaVu Sans.\n",
            "  fig.canvas.print_figure(bytes_io, **kw)\n",
            "/usr/local/lib/python3.12/dist-packages/IPython/core/pylabtools.py:151: UserWarning: Glyph 26377 (\\N{CJK UNIFIED IDEOGRAPH-6709}) missing from font(s) DejaVu Sans.\n",
            "  fig.canvas.print_figure(bytes_io, **kw)\n",
            "/usr/local/lib/python3.12/dist-packages/IPython/core/pylabtools.py:151: UserWarning: Glyph 37666 (\\N{CJK UNIFIED IDEOGRAPH-9322}) missing from font(s) DejaVu Sans.\n",
            "  fig.canvas.print_figure(bytes_io, **kw)\n"
          ]
        },
        {
          "output_type": "display_data",
          "data": {
            "text/plain": [
              "<Figure size 640x480 with 1 Axes>"
            ],
            "image/png": "[encoded data removed]"
          },
          "metadata": {}
        }
      ]
    },
    {
      "cell_type": "markdown",
      "source": [
        "Which genre has the highest number of apps?"
      ],
      "metadata": {
        "id": "HOn2WRzHEz5L"
      }
    },
    {
      "cell_type": "code",
      "source": [
        "\n",
        "genre_counts = df.groupby(\"Genres\")[\"App\"].count().sort_values(ascending=False)\n",
        "print(\"Genre Counts:\\n\", genre_counts, \"\\n\")\n",
        "\n",
        "sns.barplot(x=genre_counts.head(10).values, y=genre_counts.head(10).index, palette=\"viridis\")\n",
        "plt.title(\"Top 10 Genres by App Count\")\n",
        "plt.xlabel(\"Number of Apps\")\n",
        "plt.show()\n"
      ],
      "metadata": {
        "colab": {
          "base_uri": "https://localhost:8080/",
          "height": 1000
        },
        "id": "Ku5f2KoNEx50",
        "outputId": "55d992f5-a2e4-403b-969f-bbc92d0d844b"
      },
      "execution_count": 1116,
      "outputs": [
        {
          "output_type": "stream",
          "name": "stderr",
          "text": [
            "/tmp/ipython-input-576851314.py:4: FutureWarning: \n",
            "\n",
            "Passing `palette` without assigning `hue` is deprecated and will be removed in v0.14.0. Assign the `y` variable to `hue` and set `legend=False` for the same effect.\n",
            "\n",
            "  sns.barplot(x=genre_counts.head(10).values, y=genre_counts.head(10).index, palette=\"viridis\")\n"
          ]
        },
        {
          "output_type": "stream",
          "name": "stdout",
          "text": [
            "Genre Counts:\n",
            " Genres\n",
            "Tools                      655\n",
            "Education                  567\n",
            "Entertainment              518\n",
            "Medical                    460\n",
            "Business                   408\n",
            "Lifestyle                  339\n",
            "Finance                    316\n",
            "Personalization            313\n",
            "Productivity               284\n",
            "Sports                     267\n",
            "Health & Fitness           255\n",
            "News & Magazines           224\n",
            "Communication              219\n",
            "Dating                     206\n",
            "Books & Reference          193\n",
            "Action                     179\n",
            "Social                     174\n",
            "Travel & Local             168\n",
            "Photography                163\n",
            "Simulation                 155\n",
            "Shopping                   144\n",
            "Casual                     144\n",
            "Arcade                     116\n",
            "Video Players & Editors    113\n",
            "Maps & Navigation          103\n",
            "Puzzle                      99\n",
            "Food & Drink                97\n",
            "Educational                 90\n",
            "Role Playing                81\n",
            "Libraries & Demo            79\n",
            "Auto & Vehicles             79\n",
            "House & Home                72\n",
            "Events                      62\n",
            "Racing                      60\n",
            "Art & Design                60\n",
            "Adventure                   59\n",
            "Parenting                   58\n",
            "Strategy                    57\n",
            "Weather                     57\n",
            "Comics                      53\n",
            "Beauty                      51\n",
            "Board                       49\n",
            "Card                        36\n",
            "Trivia                      35\n",
            "Casino                      30\n",
            "Music                       15\n",
            "Word                        12\n",
            "Music & Audio                1\n",
            "Name: App, dtype: int64 \n",
            "\n"
          ]
        },
        {
          "output_type": "display_data",
          "data": {
            "text/plain": [
              "<Figure size 640x480 with 1 Axes>"
            ],
            "image/png": "[encoded data removed]"
          },
          "metadata": {}
        }
      ]
    },
    {
      "cell_type": "markdown",
      "source": [
        "What is the average size of free vs. paid apps?"
      ],
      "metadata": {
        "id": "Kfj1cGqbHVMd"
      }
    },
    {
      "cell_type": "code",
      "source": [
        "avg_size = df.groupby(\"Type\")[\"Size\"].mean()\n",
        "print(\"Average Size (MB):\\n\", avg_size, \"\\n\")\n",
        "\n",
        "sns.barplot(x=avg_size.index, y=avg_size.values, palette=\"mako\")\n",
        "plt.title(\"Average App Size by Type\")\n",
        "plt.ylabel(\"Size (MB)\")\n",
        "plt.show()"
      ],
      "metadata": {
        "colab": {
          "base_uri": "https://localhost:8080/",
          "height": 663
        },
        "id": "bdqtfcRxFf4U",
        "outputId": "cc942ebe-a488-4534-fce3-ac9bb5814c04"
      },
      "execution_count": 1117,
      "outputs": [
        {
          "output_type": "stream",
          "name": "stdout",
          "text": [
            "Average Size (MB):\n",
            " Type\n",
            "Free    17.707877\n",
            "Paid    18.590722\n",
            "Name: Size, dtype: float64 \n",
            "\n"
          ]
        },
        {
          "output_type": "stream",
          "name": "stderr",
          "text": [
            "/tmp/ipython-input-4130921621.py:4: FutureWarning: \n",
            "\n",
            "Passing `palette` without assigning `hue` is deprecated and will be removed in v0.14.0. Assign the `x` variable to `hue` and set `legend=False` for the same effect.\n",
            "\n",
            "  sns.barplot(x=avg_size.index, y=avg_size.values, palette=\"mako\")\n"
          ]
        },
        {
          "output_type": "display_data",
          "data": {
            "text/plain": [
              "<Figure size 640x480 with 1 Axes>"
            ],
            "image/png": "[encoded data removed]"
          },
          "metadata": {}
        }
      ]
    },
    {
      "cell_type": "markdown",
      "source": [
        "What are the top 5 most expensive apps with a perfect rating (5)?"
      ],
      "metadata": {
        "id": "bSTCxY0tHPTG"
      }
    },
    {
      "cell_type": "code",
      "source": [
        "\n",
        "top5 = df[df[\"Rating\"] == 5.0].sort_values(\"Price\", ascending=False).head(5)\n",
        "\n",
        "print(\"Top 5 Most Expensive Perfectly Rated Apps:\\n\")\n",
        "print(top5[[\"App\", \"Category\", \"Rating\", \"Price\"]])\n",
        "sns.barplot(data=top5, x=\"App\", y=\"Price\", palette=\"crest\")\n",
        "plt.title(\"Top 5 Most Expensive 5 Rated Apps\", fontsize=14)\n",
        "plt.ylabel(\"Price (USD)\")\n",
        "plt.xlabel(\"Application Name\")\n",
        "plt.xticks(rotation=30, ha=\"right\")\n",
        "plt.tight_layout()\n",
        "plt.show()\n"
      ],
      "metadata": {
        "colab": {
          "base_uri": "https://localhost:8080/",
          "height": 713
        },
        "id": "Barx4bpUHM2m",
        "outputId": "07b5b59f-12a9-41ee-876a-46603386fa0c"
      },
      "execution_count": 1118,
      "outputs": [
        {
          "output_type": "stream",
          "name": "stdout",
          "text": [
            "Top 5 Most Expensive Perfectly Rated Apps:\n",
            "\n",
            "                                            App Category  Rating  Price\n",
            "5489                  AP Art History Flashcards   FAMILY     5.0  29.99\n",
            "7477                 USMLE Step 2 CK Flashcards   FAMILY     5.0  19.99\n",
            "5482                 meStudying: AP English Lit   FAMILY     5.0   4.99\n",
            "5246                      Hey AJ! It's Bedtime!   FAMILY     5.0   4.99\n",
            "7204  TI-84 CE Graphing Calculator Manual TI 84   FAMILY     5.0   4.99\n"
          ]
        },
        {
          "output_type": "stream",
          "name": "stderr",
          "text": [
            "/tmp/ipython-input-3640312051.py:5: FutureWarning: \n",
            "\n",
            "Passing `palette` without assigning `hue` is deprecated and will be removed in v0.14.0. Assign the `x` variable to `hue` and set `legend=False` for the same effect.\n",
            "\n",
            "  sns.barplot(data=top5, x=\"App\", y=\"Price\", palette=\"crest\")\n"
          ]
        },
        {
          "output_type": "display_data",
          "data": {
            "text/plain": [
              "<Figure size 640x480 with 1 Axes>"
            ],
            "image/png": "[encoded data removed]"
          },
          "metadata": {}
        }
      ]
    },
    {
      "cell_type": "markdown",
      "source": [
        "How many apps have received more than 50K reviews?"
      ],
      "metadata": {
        "id": "ATR28HknHxIm"
      }
    },
    {
      "cell_type": "code",
      "source": [
        "df[\"Reviews\"].dtype"
      ],
      "metadata": {
        "colab": {
          "base_uri": "https://localhost:8080/"
        },
        "id": "6eQ7zZ5vRaSw",
        "outputId": "f34aac52-ee69-40bd-942a-c463ac53fd47"
      },
      "execution_count": 1119,
      "outputs": [
        {
          "output_type": "execute_result",
          "data": {
            "text/plain": [
              "dtype('int64')"
            ]
          },
          "metadata": {},
          "execution_count": 1119
        }
      ]
    },
    {
      "cell_type": "code",
      "source": [
        "\n"
      ],
      "metadata": {
        "id": "iPBcQQOpRmEp"
      },
      "execution_count": 1119,
      "outputs": []
    },
    {
      "cell_type": "code",
      "source": [
        "df[\"Reviews\"].describe()"
      ],
      "metadata": {
        "colab": {
          "base_uri": "https://localhost:8080/",
          "height": 335
        },
        "id": "pQm2tXBPRDDr",
        "outputId": "c8c6333a-a235-4d83-db29-13c53060d277"
      },
      "execution_count": 1120,
      "outputs": [
        {
          "output_type": "execute_result",
          "data": {
            "text/plain": [
              "count      7975.000000\n",
              "mean       6980.833229\n",
              "std       16431.455040\n",
              "min           0.000000\n",
              "25%          12.000000\n",
              "50%         244.000000\n",
              "75%        4569.000000\n",
              "max      136540.000000\n",
              "Name: Reviews, dtype: float64"
            ],
            "text/html": [
              "<div>\n",
              "<style scoped>\n",
              "    .dataframe tbody tr th:only-of-type {\n",
              "        vertical-align: middle;\n",
              "    }\n",
              "\n",
              "    .dataframe tbody tr th {\n",
              "        vertical-align: top;\n",
              "    }\n",
              "\n",
              "    .dataframe thead th {\n",
              "        text-align: right;\n",
              "    }\n",
              "</style>\n",
              "<table border=\"1\" class=\"dataframe\">\n",
              "  <thead>\n",
              "    <tr style=\"text-align: right;\">\n",
              "      <th></th>\n",
              "      <th>Reviews</th>\n",
              "    </tr>\n",
              "  </thead>\n",
              "  <tbody>\n",
              "    <tr>\n",
              "      <th>count</th>\n",
              "      <td>7975.000000</td>\n",
              "    </tr>\n",
              "    <tr>\n",
              "      <th>mean</th>\n",
              "      <td>6980.833229</td>\n",
              "    </tr>\n",
              "    <tr>\n",
              "      <th>std</th>\n",
              "      <td>16431.455040</td>\n",
              "    </tr>\n",
              "    <tr>\n",
              "      <th>min</th>\n",
              "      <td>0.000000</td>\n",
              "    </tr>\n",
              "    <tr>\n",
              "      <th>25%</th>\n",
              "      <td>12.000000</td>\n",
              "    </tr>\n",
              "    <tr>\n",
              "      <th>50%</th>\n",
              "      <td>244.000000</td>\n",
              "    </tr>\n",
              "    <tr>\n",
              "      <th>75%</th>\n",
              "      <td>4569.000000</td>\n",
              "    </tr>\n",
              "    <tr>\n",
              "      <th>max</th>\n",
              "      <td>136540.000000</td>\n",
              "    </tr>\n",
              "  </tbody>\n",
              "</table>\n",
              "</div><br><label><b>dtype:</b> float64</label>"
            ]
          },
          "metadata": {},
          "execution_count": 1120
        }
      ]
    },
    {
      "cell_type": "code",
      "source": [
        "apps = df[df[\"Reviews\"] > 50000]\n",
        "print(f\"Number of apps with >50K reviews: {len(apps)}\\n\")\n",
        "\n",
        "high_review_count = len(apps)\n",
        "low_review_count = len(df) - high_review_count\n",
        "\n",
        "plt.bar(['>50K Reviews', '≤50K Reviews'], [high_review_count, low_review_count], color=['blue', 'gray'])\n",
        "plt.title('Apps with More than 50K Reviews')\n",
        "plt.ylabel('Number of Apps')\n",
        "plt.show()\n"
      ],
      "metadata": {
        "colab": {
          "base_uri": "https://localhost:8080/",
          "height": 487
        },
        "id": "rMzE5cFPHyIl",
        "outputId": "c02733b0-a64a-4bad-ea88-9532467778bc"
      },
      "execution_count": 1121,
      "outputs": [
        {
          "output_type": "stream",
          "name": "stdout",
          "text": [
            "Number of apps with >50K reviews: 276\n",
            "\n"
          ]
        },
        {
          "output_type": "display_data",
          "data": {
            "text/plain": [
              "<Figure size 640x480 with 1 Axes>"
            ],
            "image/png": "[encoded data removed]"
          },
          "metadata": {}
        }
      ]
    },
    {
      "cell_type": "markdown",
      "source": [
        "What is the average price of apps, grouped by genre and number of installs?"
      ],
      "metadata": {
        "id": "Bw2phXAUH512"
      }
    },
    {
      "cell_type": "code",
      "source": [
        "df[\"Price\"].dtype"
      ],
      "metadata": {
        "colab": {
          "base_uri": "https://localhost:8080/"
        },
        "id": "Z9iWSU3YJHsY",
        "outputId": "0c04b3a0-0b19-4e76-8602-520d7413b029"
      },
      "execution_count": 1122,
      "outputs": [
        {
          "output_type": "execute_result",
          "data": {
            "text/plain": [
              "dtype('float64')"
            ]
          },
          "metadata": {},
          "execution_count": 1122
        }
      ]
    },
    {
      "cell_type": "code",
      "source": [
        "df[\"Installs_Bin\"] = pd.cut(df[\"Installs\"], bins=[0,1e3,1e4,1e5,1e6,5e6,1e9],\n",
        "                            labels=[\"<1k\",\"1k-10k\",\"10k-100k\",\"100k-1M\",\"1M-5M\",\"5M+\"])\n",
        "avg_price = df.groupby([\"Genres\",\"Installs_Bin\"])[\"Price\"].mean().reset_index()\n",
        "\n",
        "print(\"Average Price by Genre and Install Range:\\n\", avg_price, \"\\n\")\n",
        "\n",
        "plt.figure(figsize=(14, 7))\n",
        "sns.barplot(\n",
        "    data=avg_price,\n",
        "    x=\"Installs_Bin\",\n",
        "    y=\"Price\",\n",
        "    hue=\"Genres\",\n",
        "    dodge=False,\n",
        "    palette=\"mako\"\n",
        ")\n",
        "\n",
        "plt.title(\"Average App Price by Genre and Install Range\")\n",
        "plt.xlabel(\"Install Range\")\n",
        "plt.ylabel(\"Average Price ($)\")\n",
        "plt.legend(title=\"Genre\")\n",
        "plt.tight_layout()\n",
        "plt.legend([], [])\n",
        "plt.show()"
      ],
      "metadata": {
        "colab": {
          "base_uri": "https://localhost:8080/",
          "height": 584
        },
        "id": "f2OXr1MYH5cN",
        "outputId": "64d70e07-33ea-407d-819c-18d4cdccdbc5"
      },
      "execution_count": 1123,
      "outputs": [
        {
          "output_type": "stream",
          "name": "stderr",
          "text": [
            "/tmp/ipython-input-2285581965.py:3: FutureWarning: The default of observed=False is deprecated and will be changed to True in a future version of pandas. Pass observed=False to retain current behavior or observed=True to adopt the future default and silence this warning.\n",
            "  avg_price = df.groupby([\"Genres\",\"Installs_Bin\"])[\"Price\"].mean().reset_index()\n"
          ]
        },
        {
          "output_type": "stream",
          "name": "stdout",
          "text": [
            "Average Price by Genre and Install Range:\n",
            "      Genres Installs_Bin     Price\n",
            "0    Action          <1k  0.565455\n",
            "1    Action       1k-10k  1.678636\n",
            "2    Action     10k-100k  0.391786\n",
            "3    Action      100k-1M  0.163797\n",
            "4    Action        1M-5M       NaN\n",
            "..      ...          ...       ...\n",
            "283    Word       1k-10k  0.000000\n",
            "284    Word     10k-100k  0.000000\n",
            "285    Word      100k-1M  0.000000\n",
            "286    Word        1M-5M       NaN\n",
            "287    Word          5M+       NaN\n",
            "\n",
            "[288 rows x 3 columns] \n",
            "\n"
          ]
        },
        {
          "output_type": "display_data",
          "data": {
            "text/plain": [
              "<Figure size 1400x700 with 1 Axes>"
            ],
            "image/png": "[encoded data removed]"
          },
          "metadata": {}
        }
      ]
    },
    {
      "cell_type": "markdown",
      "source": [
        "How many apps have a rating higher than 4.7, and what is their average price?"
      ],
      "metadata": {
        "id": "-8OqVVhAKK7Y"
      }
    },
    {
      "cell_type": "code",
      "source": [
        "high_rated = df[df[\"Rating\"] > 4.7]\n",
        "print(f\"Apps with rating > 4.7: {len(high_rated)}\")\n",
        "\n",
        "\n",
        "high_count = len(high_rated)\n",
        "low_count = len(df) - high_count\n",
        "plt.bar(['Rating > 4.7', 'Rating ≤ 4.7'], [high_count, low_count], color=['green', 'red'])\n",
        "plt.title('High-Rated Apps vs Others')\n",
        "plt.ylabel('Number of Apps')\n",
        "plt.show()\n"
      ],
      "metadata": {
        "colab": {
          "base_uri": "https://localhost:8080/",
          "height": 469
        },
        "id": "yyl2bVm8KJ7M",
        "outputId": "56cdf699-1746-46a5-ad28-91aaacd4e412"
      },
      "execution_count": 1124,
      "outputs": [
        {
          "output_type": "stream",
          "name": "stdout",
          "text": [
            "Apps with rating > 4.7: 558\n"
          ]
        },
        {
          "output_type": "display_data",
          "data": {
            "text/plain": [
              "<Figure size 640x480 with 1 Axes>"
            ],
            "image/png": "[encoded data removed]"
          },
          "metadata": {}
        }
      ]
    },
    {
      "cell_type": "markdown",
      "source": [
        "What is Google's estimated revenue from apps with 5,000,000+ installs?\n",
        "(Assuming Google takes a 30% cut from app sales)"
      ],
      "metadata": {
        "id": "nQr6Sb3zKUFR"
      }
    },
    {
      "cell_type": "code",
      "source": [
        "h = df[df[\"Installs\"] >= 5_000_000]\n",
        "h[\"Revenue\"] = h[\"Price\"] * h[\"Installs\"] * 0.30\n",
        "revenue = h[\"Revenue\"].sum()\n",
        "print(f\"Estimated Google Revenue (5M+ installs): ${revenue}\\n\")\n",
        "\n"
      ],
      "metadata": {
        "colab": {
          "base_uri": "https://localhost:8080/"
        },
        "id": "kT9UNYHiKQ06",
        "outputId": "db2f8128-ff99-4a6d-84cc-0cc0ec8380e0"
      },
      "execution_count": 1125,
      "outputs": [
        {
          "output_type": "stream",
          "name": "stdout",
          "text": [
            "Estimated Google Revenue (5M+ installs): $0.0\n",
            "\n"
          ]
        }
      ]
    },
    {
      "cell_type": "markdown",
      "source": [
        "What are the maximum and minimum sizes of free vs. paid apps?"
      ],
      "metadata": {
        "id": "7Oyxn9oKKlwC"
      }
    },
    {
      "cell_type": "code",
      "source": [
        "size_stats = df.groupby(\"Type\")[\"Size\"].agg([\"min\",\"max\"])\n",
        "print(\"min and max of free vs paid sizes:\\n\", size_stats, \"\\n\")\n",
        "sns.barplot(size_stats,x=size_stats.index,y=size_stats[\"min\"])\n",
        "plt.title(\"min size of free vs paid apps\")\n",
        "plt.xlabel(\"Type\")\n",
        "plt.ylabel(\"min Size (MB)\")\n",
        "plt.show()\n",
        "sns.barplot(size_stats,x=size_stats.index,y=size_stats[\"max\"])\n",
        "plt.title(\"max size of free vs paid apps\")\n",
        "plt.xlabel(\"Type\")\n",
        "plt.ylabel(\"max Size (MB)\")\n",
        "plt.show()"
      ],
      "metadata": {
        "colab": {
          "base_uri": "https://localhost:8080/",
          "height": 1000
        },
        "id": "nPLYgWCXKmFg",
        "outputId": "1d569de1-b59c-4302-c976-738474a8fbf5"
      },
      "execution_count": 1126,
      "outputs": [
        {
          "output_type": "stream",
          "name": "stdout",
          "text": [
            "min and max of free vs paid sizes:\n",
            "            min    max\n",
            "Type                 \n",
            "Free  0.008301  100.0\n",
            "Paid  0.013672  100.0 \n",
            "\n"
          ]
        },
        {
          "output_type": "display_data",
          "data": {
            "text/plain": [
              "<Figure size 640x480 with 1 Axes>"
            ],
            "image/png": "[encoded data removed]"
          },
          "metadata": {}
        },
        {
          "output_type": "display_data",
          "data": {
            "text/plain": [
              "<Figure size 640x480 with 1 Axes>"
            ],
            "image/png": "[encoded data removed]"
          },
          "metadata": {}
        }
      ]
    },
    {
      "cell_type": "markdown",
      "source": [
        "Is there a correlation between an app’s rating, number of reviews, size, and its price?"
      ],
      "metadata": {
        "id": "3ndTroUhLhp6"
      }
    },
    {
      "cell_type": "code",
      "source": [
        "corr = df[[\"Rating\",\"Reviews\",\"Size\",\"Price\"]].corr()\n",
        "print(\"Correlation Matrix:\\n\", corr, \"\\n\")\n",
        "\n",
        "sns.heatmap(corr, annot=True)\n",
        "plt.title(\"Correlation Matrix\")\n",
        "plt.show()\n"
      ],
      "metadata": {
        "colab": {
          "base_uri": "https://localhost:8080/",
          "height": 574
        },
        "id": "liuRMee9LiP6",
        "outputId": "a34ad0f4-3b3d-4ba8-e140-bd90ebfe2bb6"
      },
      "execution_count": 1127,
      "outputs": [
        {
          "output_type": "stream",
          "name": "stdout",
          "text": [
            "Correlation Matrix:\n",
            "            Rating   Reviews      Size     Price\n",
            "Rating   1.000000  0.119462  0.013521 -0.014995\n",
            "Reviews  0.119462  1.000000  0.172325 -0.025153\n",
            "Size     0.013521  0.172325  1.000000 -0.015429\n",
            "Price   -0.014995 -0.025153 -0.015429  1.000000 \n",
            "\n"
          ]
        },
        {
          "output_type": "display_data",
          "data": {
            "text/plain": [
              "<Figure size 640x480 with 2 Axes>"
            ],
            "image/png": "[encoded data removed]"
          },
          "metadata": {}
        }
      ]
    },
    {
      "cell_type": "markdown",
      "source": [
        "How many apps exist for each type (free/paid) across different content ratings?"
      ],
      "metadata": {
        "id": "-8hxJjVTLz3S"
      }
    },
    {
      "cell_type": "code",
      "source": [
        "ratings=df.groupby([\"Content Rating\",\"Type\"])[\"App\"].count().unstack()\n",
        "print(\"Apps per Type and Content Rating:\\n\", ratings, \"\\n\")\n",
        "ratings.plot(kind=\"bar\", figsize=(8, 5))\n",
        "plt.title(\"Number of Free vs Paid Apps by Content Rating\")\n",
        "plt.xlabel(\"Content Rating\")\n",
        "plt.ylabel(\"Number of Apps\")\n",
        "plt.legend(title=\"Type\")\n",
        "plt.show()\n"
      ],
      "metadata": {
        "colab": {
          "base_uri": "https://localhost:8080/",
          "height": 694
        },
        "id": "-lgwCpo_L2A6",
        "outputId": "b7f01ce5-be75-4d84-e865-1bfd87b55d4e"
      },
      "execution_count": 1128,
      "outputs": [
        {
          "output_type": "stream",
          "name": "stdout",
          "text": [
            "Apps per Type and Content Rating:\n",
            " Type              Free   Paid\n",
            "Content Rating               \n",
            "Adults             3.0    NaN\n",
            "Everyone        6157.0  724.0\n",
            "Mature           329.0   18.0\n",
            "Teen             690.0   52.0\n",
            "Unrated            2.0    NaN \n",
            "\n"
          ]
        },
        {
          "output_type": "display_data",
          "data": {
            "text/plain": [
              "<Figure size 800x500 with 1 Axes>"
            ],
            "image/png": "[encoded data removed]"
          },
          "metadata": {}
        }
      ]
    },
    {
      "cell_type": "markdown",
      "source": [
        "How many apps are compatible with Android version 4.x?"
      ],
      "metadata": {
        "id": "wC8YwfvXNR89"
      }
    },
    {
      "cell_type": "code",
      "source": [
        "df[\"Android Ver\"].dtype"
      ],
      "metadata": {
        "colab": {
          "base_uri": "https://localhost:8080/"
        },
        "id": "mhG5GMYNPKaO",
        "outputId": "e05554e5-e87c-4ba9-9ff8-15a2eec20681"
      },
      "execution_count": 1129,
      "outputs": [
        {
          "output_type": "execute_result",
          "data": {
            "text/plain": [
              "dtype('O')"
            ]
          },
          "metadata": {},
          "execution_count": 1129
        }
      ]
    },
    {
      "cell_type": "code",
      "source": [
        "\n",
        "df[\"Android Ver Num\"] = pd.to_numeric(df[\"Android Ver\"], errors='coerce')\n",
        "\n",
        "android4x = df[(df[\"Android Ver Num\"] >= 4.0) & (df[\"Android Ver Num\"] < 5.0)]\n",
        "print(f\"Apps compatible with Android 4.x: {len(android4x)}\")\n",
        "\n"
      ],
      "metadata": {
        "colab": {
          "base_uri": "https://localhost:8080/"
        },
        "id": "i7wNCHHJNSXk",
        "outputId": "1a31c749-2f50-4549-88e7-92d1a0d97581"
      },
      "execution_count": 1131,
      "outputs": [
        {
          "output_type": "stream",
          "name": "stdout",
          "text": [
            "Apps compatible with Android 4.x: 4613\n"
          ]
        }
      ]
    },
    {
      "cell_type": "code",
      "source": [
        "import matplotlib.pyplot as plt\n",
        "import seaborn as sns\n",
        "import pandas as pd\n",
        "\n",
        "df[\"Android Ver Num\"] = pd.to_numeric(df[\"Android Ver\"], errors='coerce')\n",
        "\n",
        "bins = [1, 3, 4, 5, 6, 7, 8, 9, 10, 15]\n",
        "labels = [\"<3\", \"3.x\", \"4.x\", \"5.x\", \"6.x\", \"7.x\", \"8.x\", \"9.x\", \"10+\"]\n",
        "\n",
        "df[\"Android_Version_Range\"] = pd.cut(df[\"Android Ver Num\"], bins=bins, labels=labels, right=False)\n",
        "\n",
        "version_counts = df[\"Android_Version_Range\"].value_counts().sort_index()\n",
        "\n",
        "sns.barplot(x=version_counts.index, y=version_counts.values, palette=\"mako\")\n",
        "plt.title(\"App Compatibility by Android Version Range\", fontsize=14)\n",
        "plt.xlabel(\"Android Version Range\")\n",
        "plt.ylabel(\"Number of Apps\")\n",
        "plt.show()\n"
      ],
      "metadata": {
        "colab": {
          "base_uri": "https://localhost:8080/",
          "height": 560
        },
        "id": "vzyO7tSjSt_9",
        "outputId": "65349ce3-2e92-4e53-b879-276e66a6e816"
      },
      "execution_count": 1133,
      "outputs": [
        {
          "output_type": "stream",
          "name": "stderr",
          "text": [
            "/tmp/ipython-input-1220684.py:14: FutureWarning: \n",
            "\n",
            "Passing `palette` without assigning `hue` is deprecated and will be removed in v0.14.0. Assign the `x` variable to `hue` and set `legend=False` for the same effect.\n",
            "\n",
            "  sns.barplot(x=version_counts.index, y=version_counts.values, palette=\"mako\")\n"
          ]
        },
        {
          "output_type": "display_data",
          "data": {
            "text/plain": [
              "<Figure size 640x480 with 1 Axes>"
            ],
            "image/png": "[encoded data removed]"
          },
          "metadata": {}
        }
      ]
    },
    {
      "cell_type": "code",
      "source": [],
      "metadata": {
        "id": "x1qCxuMzd94m"
      },
      "execution_count": null,
      "outputs": []
    }
  ],
  "metadata": {
    "colab": {
      "provenance": []
    },
    "kernelspec": {
      "display_name": "Python 3",
      "name": "python3"
    },
    "language_info": {
      "name": "python"
    }
  },
  "nbformat": 4,
  "nbformat_minor": 0
}